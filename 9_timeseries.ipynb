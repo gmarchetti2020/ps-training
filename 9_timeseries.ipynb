{
  "nbformat": 4,
  "nbformat_minor": 0,
  "metadata": {
    "kernelspec": {
      "display_name": "Python 3",
      "language": "python",
      "name": "python3"
    },
    "language_info": {
      "codemirror_mode": {
        "name": "ipython",
        "version": 3
      },
      "file_extension": ".py",
      "mimetype": "text/x-python",
      "name": "python",
      "nbconvert_exporter": "python",
      "pygments_lexer": "ipython3",
      "version": "3.7.9"
    },
    "colab": {
      "name": "9.timeseries.ipynb",
      "provenance": [],
      "collapsed_sections": [],
      "toc_visible": true,
      "include_colab_link": true
    }
  },
  "cells": [
    {
      "cell_type": "markdown",
      "metadata": {
        "id": "view-in-github",
        "colab_type": "text"
      },
      "source": [
        "<a href=\"https://colab.research.google.com/github/gmarchetti2020/ps-training/blob/main/9_timeseries.ipynb\" target=\"_parent\"><img src=\"https://colab.research.google.com/assets/colab-badge.svg\" alt=\"Open In Colab\"/></a>"
      ]
    },
    {
      "cell_type": "markdown",
      "metadata": {
        "id": "OcXFaDScJdBK"
      },
      "source": [
        "# LSTM Tutorial\n",
        "Long & Short-Term Memory (LSTM) networks are designed to learn and remember dependencies in sequences of inputs presented to them. They are especially suited to problems where the data is a function of time, and patterns exist in sequences of values, for example:\n",
        "- Time series forecasting\n",
        "- Sentence or sentiment classification\n",
        "- Translation\n",
        "- Chatbots\n",
        "In this tutorial we are focusing on forecasting a time series with 1 variable (aka univariate)."
      ]
    },
    {
      "cell_type": "markdown",
      "metadata": {
        "id": "tz10NqBqJdBL"
      },
      "source": [
        "#### Acknowledgement\n",
        "This notebook is derived from Jason Brownlee's article at https://machinelearningmastery.com/time-series-prediction-lstm-recurrent-neural-networks-python-keras/ "
      ]
    },
    {
      "cell_type": "markdown",
      "metadata": {
        "id": "REJDPpKOJdBL"
      },
      "source": [
        "### Problem Statement\n",
        "We have historical data about the number of international airline passengers between January 1949 and December 1960. The data is aggregated by month and measured in thousands, so we'll have 144 data points. We want to forecast the number of passengers."
      ]
    },
    {
      "cell_type": "code",
      "metadata": {
        "id": "0yHE46YELp54",
        "outputId": "464f603a-5da2-4d6f-f3d5-baaa13e85650",
        "colab": {
          "base_uri": "https://localhost:8080/"
        }
      },
      "source": [
        "%pip install fsspec gcsfs"
      ],
      "execution_count": null,
      "outputs": [
        {
          "output_type": "stream",
          "text": [
            "Collecting fsspec\n",
            "\u001b[?25l  Downloading https://files.pythonhosted.org/packages/4c/38/39b83c70ff47192255c15da1b602322cb9918682199d5c1d9cf128bdd531/fsspec-0.8.3-py3-none-any.whl (88kB)\n",
            "\r\u001b[K     |███▊                            | 10kB 12.5MB/s eta 0:00:01\r\u001b[K     |███████▍                        | 20kB 2.6MB/s eta 0:00:01\r\u001b[K     |███████████                     | 30kB 3.4MB/s eta 0:00:01\r\u001b[K     |██████████████▊                 | 40kB 2.9MB/s eta 0:00:01\r\u001b[K     |██████████████████▍             | 51kB 3.5MB/s eta 0:00:01\r\u001b[K     |██████████████████████          | 61kB 3.7MB/s eta 0:00:01\r\u001b[K     |█████████████████████████▊      | 71kB 4.0MB/s eta 0:00:01\r\u001b[K     |█████████████████████████████▌  | 81kB 4.4MB/s eta 0:00:01\r\u001b[K     |████████████████████████████████| 92kB 3.1MB/s \n",
            "\u001b[?25hCollecting gcsfs\n",
            "  Downloading https://files.pythonhosted.org/packages/85/75/3d669945d41e5aedd5c4333b9dc6192b7839d2bafd04b75b8222d4e92ae0/gcsfs-0.7.1-py2.py3-none-any.whl\n",
            "Requirement already satisfied: requests in /usr/local/lib/python3.6/dist-packages (from gcsfs) (2.23.0)\n",
            "Requirement already satisfied: google-auth>=1.2 in /usr/local/lib/python3.6/dist-packages (from gcsfs) (1.17.2)\n",
            "Collecting aiohttp\n",
            "\u001b[?25l  Downloading https://files.pythonhosted.org/packages/7c/39/7eb5f98d24904e0f6d3edb505d4aa60e3ef83c0a58d6fe18244a51757247/aiohttp-3.6.2-cp36-cp36m-manylinux1_x86_64.whl (1.2MB)\n",
            "\u001b[K     |████████████████████████████████| 1.2MB 9.4MB/s \n",
            "\u001b[?25hRequirement already satisfied: decorator in /usr/local/lib/python3.6/dist-packages (from gcsfs) (4.4.2)\n",
            "Requirement already satisfied: google-auth-oauthlib in /usr/local/lib/python3.6/dist-packages (from gcsfs) (0.4.1)\n",
            "Requirement already satisfied: urllib3!=1.25.0,!=1.25.1,<1.26,>=1.21.1 in /usr/local/lib/python3.6/dist-packages (from requests->gcsfs) (1.24.3)\n",
            "Requirement already satisfied: idna<3,>=2.5 in /usr/local/lib/python3.6/dist-packages (from requests->gcsfs) (2.10)\n",
            "Requirement already satisfied: chardet<4,>=3.0.2 in /usr/local/lib/python3.6/dist-packages (from requests->gcsfs) (3.0.4)\n",
            "Requirement already satisfied: certifi>=2017.4.17 in /usr/local/lib/python3.6/dist-packages (from requests->gcsfs) (2020.6.20)\n",
            "Requirement already satisfied: cachetools<5.0,>=2.0.0 in /usr/local/lib/python3.6/dist-packages (from google-auth>=1.2->gcsfs) (4.1.1)\n",
            "Requirement already satisfied: rsa<5,>=3.1.4; python_version >= \"3\" in /usr/local/lib/python3.6/dist-packages (from google-auth>=1.2->gcsfs) (4.6)\n",
            "Requirement already satisfied: setuptools>=40.3.0 in /usr/local/lib/python3.6/dist-packages (from google-auth>=1.2->gcsfs) (50.3.0)\n",
            "Requirement already satisfied: six>=1.9.0 in /usr/local/lib/python3.6/dist-packages (from google-auth>=1.2->gcsfs) (1.15.0)\n",
            "Requirement already satisfied: pyasn1-modules>=0.2.1 in /usr/local/lib/python3.6/dist-packages (from google-auth>=1.2->gcsfs) (0.2.8)\n",
            "Collecting async-timeout<4.0,>=3.0\n",
            "  Downloading https://files.pythonhosted.org/packages/e1/1e/5a4441be21b0726c4464f3f23c8b19628372f606755a9d2e46c187e65ec4/async_timeout-3.0.1-py3-none-any.whl\n",
            "Requirement already satisfied: attrs>=17.3.0 in /usr/local/lib/python3.6/dist-packages (from aiohttp->gcsfs) (20.2.0)\n",
            "Collecting yarl<2.0,>=1.0\n",
            "\u001b[?25l  Downloading https://files.pythonhosted.org/packages/01/c9/379b807a9c298b9694d0af8ee4260be7d40ab1a11fb9d4ae9e70b1e69d96/yarl-1.6.0-cp36-cp36m-manylinux1_x86_64.whl (257kB)\n",
            "\u001b[K     |████████████████████████████████| 266kB 34.6MB/s \n",
            "\u001b[?25hCollecting idna-ssl>=1.0; python_version < \"3.7\"\n",
            "  Downloading https://files.pythonhosted.org/packages/46/03/07c4894aae38b0de52b52586b24bf189bb83e4ddabfe2e2c8f2419eec6f4/idna-ssl-1.1.0.tar.gz\n",
            "Collecting multidict<5.0,>=4.5\n",
            "\u001b[?25l  Downloading https://files.pythonhosted.org/packages/1a/95/f50352b5366e7d579e8b99631680a9e32e1b22adfa1629a8f23b1d22d5e2/multidict-4.7.6-cp36-cp36m-manylinux1_x86_64.whl (148kB)\n",
            "\u001b[K     |████████████████████████████████| 153kB 36.2MB/s \n",
            "\u001b[?25hRequirement already satisfied: typing-extensions>=3.6.5; python_version < \"3.7\" in /usr/local/lib/python3.6/dist-packages (from aiohttp->gcsfs) (3.7.4.3)\n",
            "Requirement already satisfied: requests-oauthlib>=0.7.0 in /usr/local/lib/python3.6/dist-packages (from google-auth-oauthlib->gcsfs) (1.3.0)\n",
            "Requirement already satisfied: pyasn1>=0.1.3 in /usr/local/lib/python3.6/dist-packages (from rsa<5,>=3.1.4; python_version >= \"3\"->google-auth>=1.2->gcsfs) (0.4.8)\n",
            "Requirement already satisfied: oauthlib>=3.0.0 in /usr/local/lib/python3.6/dist-packages (from requests-oauthlib>=0.7.0->google-auth-oauthlib->gcsfs) (3.1.0)\n",
            "Building wheels for collected packages: idna-ssl\n",
            "  Building wheel for idna-ssl (setup.py) ... \u001b[?25l\u001b[?25hdone\n",
            "  Created wheel for idna-ssl: filename=idna_ssl-1.1.0-cp36-none-any.whl size=3161 sha256=9b3648805955d074421c8c9abbfbd9b80da4296d8e73324afedae0bf4f8118cc\n",
            "  Stored in directory: /root/.cache/pip/wheels/d3/00/b3/32d613e19e08a739751dd6bf998cfed277728f8b2127ad4eb7\n",
            "Successfully built idna-ssl\n",
            "Installing collected packages: fsspec, async-timeout, multidict, yarl, idna-ssl, aiohttp, gcsfs\n",
            "Successfully installed aiohttp-3.6.2 async-timeout-3.0.1 fsspec-0.8.3 gcsfs-0.7.1 idna-ssl-1.1.0 multidict-4.7.6 yarl-1.6.0\n"
          ],
          "name": "stdout"
        }
      ]
    },
    {
      "cell_type": "code",
      "metadata": {
        "id": "LDQVQhSsJdBM"
      },
      "source": [
        "import pandas as pd\n",
        "import matplotlib.pyplot as plt"
      ],
      "execution_count": null,
      "outputs": []
    },
    {
      "cell_type": "code",
      "metadata": {
        "id": "nqAryraNJdBO",
        "outputId": "d3bc64fa-2177-45ab-b03b-09b2ea67866d",
        "colab": {
          "base_uri": "https://localhost:8080/",
          "height": 419
        }
      },
      "source": [
        "df=pd.read_csv('gs://ps_workshop_files/AirPassengers.csv')\n",
        "df"
      ],
      "execution_count": null,
      "outputs": [
        {
          "output_type": "execute_result",
          "data": {
            "text/html": [
              "<div>\n",
              "<style scoped>\n",
              "    .dataframe tbody tr th:only-of-type {\n",
              "        vertical-align: middle;\n",
              "    }\n",
              "\n",
              "    .dataframe tbody tr th {\n",
              "        vertical-align: top;\n",
              "    }\n",
              "\n",
              "    .dataframe thead th {\n",
              "        text-align: right;\n",
              "    }\n",
              "</style>\n",
              "<table border=\"1\" class=\"dataframe\">\n",
              "  <thead>\n",
              "    <tr style=\"text-align: right;\">\n",
              "      <th></th>\n",
              "      <th>Month</th>\n",
              "      <th>#Passengers</th>\n",
              "    </tr>\n",
              "  </thead>\n",
              "  <tbody>\n",
              "    <tr>\n",
              "      <th>0</th>\n",
              "      <td>1949-01</td>\n",
              "      <td>112</td>\n",
              "    </tr>\n",
              "    <tr>\n",
              "      <th>1</th>\n",
              "      <td>1949-02</td>\n",
              "      <td>118</td>\n",
              "    </tr>\n",
              "    <tr>\n",
              "      <th>2</th>\n",
              "      <td>1949-03</td>\n",
              "      <td>132</td>\n",
              "    </tr>\n",
              "    <tr>\n",
              "      <th>3</th>\n",
              "      <td>1949-04</td>\n",
              "      <td>129</td>\n",
              "    </tr>\n",
              "    <tr>\n",
              "      <th>4</th>\n",
              "      <td>1949-05</td>\n",
              "      <td>121</td>\n",
              "    </tr>\n",
              "    <tr>\n",
              "      <th>...</th>\n",
              "      <td>...</td>\n",
              "      <td>...</td>\n",
              "    </tr>\n",
              "    <tr>\n",
              "      <th>139</th>\n",
              "      <td>1960-08</td>\n",
              "      <td>606</td>\n",
              "    </tr>\n",
              "    <tr>\n",
              "      <th>140</th>\n",
              "      <td>1960-09</td>\n",
              "      <td>508</td>\n",
              "    </tr>\n",
              "    <tr>\n",
              "      <th>141</th>\n",
              "      <td>1960-10</td>\n",
              "      <td>461</td>\n",
              "    </tr>\n",
              "    <tr>\n",
              "      <th>142</th>\n",
              "      <td>1960-11</td>\n",
              "      <td>390</td>\n",
              "    </tr>\n",
              "    <tr>\n",
              "      <th>143</th>\n",
              "      <td>1960-12</td>\n",
              "      <td>432</td>\n",
              "    </tr>\n",
              "  </tbody>\n",
              "</table>\n",
              "<p>144 rows × 2 columns</p>\n",
              "</div>"
            ],
            "text/plain": [
              "       Month  #Passengers\n",
              "0    1949-01          112\n",
              "1    1949-02          118\n",
              "2    1949-03          132\n",
              "3    1949-04          129\n",
              "4    1949-05          121\n",
              "..       ...          ...\n",
              "139  1960-08          606\n",
              "140  1960-09          508\n",
              "141  1960-10          461\n",
              "142  1960-11          390\n",
              "143  1960-12          432\n",
              "\n",
              "[144 rows x 2 columns]"
            ]
          },
          "metadata": {
            "tags": []
          },
          "execution_count": 3
        }
      ]
    },
    {
      "cell_type": "markdown",
      "metadata": {
        "id": "t7WhJkF8JdBR"
      },
      "source": [
        "The input is regular every month and has no missing time steps, so we don't really need the month column. The index 0-143 is sufficient to represent the time steps."
      ]
    },
    {
      "cell_type": "code",
      "metadata": {
        "id": "3df-oQ-pJdBR",
        "outputId": "27146891-e34f-4199-d590-dcd75760fe64",
        "colab": {
          "base_uri": "https://localhost:8080/",
          "height": 419
        }
      },
      "source": [
        "df=df.drop('Month', axis=1)\n",
        "df"
      ],
      "execution_count": null,
      "outputs": [
        {
          "output_type": "execute_result",
          "data": {
            "text/html": [
              "<div>\n",
              "<style scoped>\n",
              "    .dataframe tbody tr th:only-of-type {\n",
              "        vertical-align: middle;\n",
              "    }\n",
              "\n",
              "    .dataframe tbody tr th {\n",
              "        vertical-align: top;\n",
              "    }\n",
              "\n",
              "    .dataframe thead th {\n",
              "        text-align: right;\n",
              "    }\n",
              "</style>\n",
              "<table border=\"1\" class=\"dataframe\">\n",
              "  <thead>\n",
              "    <tr style=\"text-align: right;\">\n",
              "      <th></th>\n",
              "      <th>#Passengers</th>\n",
              "    </tr>\n",
              "  </thead>\n",
              "  <tbody>\n",
              "    <tr>\n",
              "      <th>0</th>\n",
              "      <td>112</td>\n",
              "    </tr>\n",
              "    <tr>\n",
              "      <th>1</th>\n",
              "      <td>118</td>\n",
              "    </tr>\n",
              "    <tr>\n",
              "      <th>2</th>\n",
              "      <td>132</td>\n",
              "    </tr>\n",
              "    <tr>\n",
              "      <th>3</th>\n",
              "      <td>129</td>\n",
              "    </tr>\n",
              "    <tr>\n",
              "      <th>4</th>\n",
              "      <td>121</td>\n",
              "    </tr>\n",
              "    <tr>\n",
              "      <th>...</th>\n",
              "      <td>...</td>\n",
              "    </tr>\n",
              "    <tr>\n",
              "      <th>139</th>\n",
              "      <td>606</td>\n",
              "    </tr>\n",
              "    <tr>\n",
              "      <th>140</th>\n",
              "      <td>508</td>\n",
              "    </tr>\n",
              "    <tr>\n",
              "      <th>141</th>\n",
              "      <td>461</td>\n",
              "    </tr>\n",
              "    <tr>\n",
              "      <th>142</th>\n",
              "      <td>390</td>\n",
              "    </tr>\n",
              "    <tr>\n",
              "      <th>143</th>\n",
              "      <td>432</td>\n",
              "    </tr>\n",
              "  </tbody>\n",
              "</table>\n",
              "<p>144 rows × 1 columns</p>\n",
              "</div>"
            ],
            "text/plain": [
              "     #Passengers\n",
              "0            112\n",
              "1            118\n",
              "2            132\n",
              "3            129\n",
              "4            121\n",
              "..           ...\n",
              "139          606\n",
              "140          508\n",
              "141          461\n",
              "142          390\n",
              "143          432\n",
              "\n",
              "[144 rows x 1 columns]"
            ]
          },
          "metadata": {
            "tags": []
          },
          "execution_count": 4
        }
      ]
    },
    {
      "cell_type": "markdown",
      "metadata": {
        "id": "GbW-fYAbJdBU"
      },
      "source": [
        "### Plot input data"
      ]
    },
    {
      "cell_type": "code",
      "metadata": {
        "id": "BQsbEwIKJdBV",
        "outputId": "8e36decb-1e3e-4154-92b4-2edec4a101f6",
        "colab": {
          "base_uri": "https://localhost:8080/",
          "height": 337
        }
      },
      "source": [
        "df.plot(figsize=(8,5))\n"
      ],
      "execution_count": null,
      "outputs": [
        {
          "output_type": "execute_result",
          "data": {
            "text/plain": [
              "<matplotlib.axes._subplots.AxesSubplot at 0x7f1601f48828>"
            ]
          },
          "metadata": {
            "tags": []
          },
          "execution_count": 5
        },
        {
          "output_type": "display_data",
          "data": {
            "image/png": "[encoded data removed]",
            "text/plain": [
              "<Figure size 576x360 with 1 Axes>"
            ]
          },
          "metadata": {
            "tags": [],
            "needs_background": "light"
          }
        }
      ]
    },
    {
      "cell_type": "code",
      "metadata": {
        "id": "V5Fgn7UgJdBX",
        "outputId": "0925d043-6a54-4864-e0d9-0a1af3a82aaf",
        "colab": {
          "base_uri": "https://localhost:8080/",
          "height": 315
        }
      },
      "source": [
        "df.hist(bins=10)"
      ],
      "execution_count": null,
      "outputs": [
        {
          "output_type": "execute_result",
          "data": {
            "text/plain": [
              "array([[<matplotlib.axes._subplots.AxesSubplot object at 0x7f1601e42278>]],\n",
              "      dtype=object)"
            ]
          },
          "metadata": {
            "tags": []
          },
          "execution_count": 6
        },
        {
          "output_type": "display_data",
          "data": {
            "image/png": "[encoded data removed]",
            "text/plain": [
              "<Figure size 432x288 with 1 Axes>"
            ]
          },
          "metadata": {
            "tags": [],
            "needs_background": "light"
          }
        }
      ]
    },
    {
      "cell_type": "markdown",
      "metadata": {
        "id": "M_grhy1oJdBa"
      },
      "source": [
        "We notice that there is a trend and a multiplicative seasonality: the pattern repeats and is also amplified over time."
      ]
    },
    {
      "cell_type": "markdown",
      "metadata": {
        "id": "p_F98IYNJdBa"
      },
      "source": [
        "### Regression over time\n",
        "We can think of forecasting as of a regression problem: given the number of passengers this month, how many will there be next month?  \n",
        "The time series is univariate (we have only one variable) and in this case we consider a time lag (aka look-back) of 1 step."
      ]
    },
    {
      "cell_type": "code",
      "metadata": {
        "id": "Di-edWZGJdBa"
      },
      "source": [
        "# Import all the libraries required.\n",
        "import numpy as np\n",
        "import math\n",
        "import tensorflow as tf\n",
        "from tensorflow.keras.models import Sequential\n",
        "from tensorflow.keras.layers import Dense, LSTM, Dropout\n",
        "from sklearn.preprocessing import MinMaxScaler\n",
        "from sklearn.metrics import mean_squared_error, r2_score"
      ],
      "execution_count": null,
      "outputs": []
    },
    {
      "cell_type": "code",
      "metadata": {
        "id": "QjLz67brJdBd"
      },
      "source": [
        "# fix random seed for reproducibility\n",
        "np.random.seed(42)\n",
        "tf.random.set_seed(42)"
      ],
      "execution_count": null,
      "outputs": []
    },
    {
      "cell_type": "markdown",
      "metadata": {
        "id": "mfrMCm1YJdBe"
      },
      "source": [
        "#### Normalize the data set\n",
        "LSTMs are sensitive to the scale of the input data, because they use the sigmoid and activation functions. Hence, we rescale the data to [0,1].  \n",
        "We can use the MinMaxScaler to perform a linear normalization.\n"
      ]
    },
    {
      "cell_type": "code",
      "metadata": {
        "id": "RrSbz2OSJdBf"
      },
      "source": [
        "# The dataset consists of only the numbers in our dataframe (no column names). We normalize it into [0,1]\n",
        "dataset = df.values\n",
        "dataset = dataset.astype('float32')\n",
        "scaler = MinMaxScaler(feature_range=(0, 1))\n",
        "dataset = scaler.fit_transform(dataset)"
      ],
      "execution_count": null,
      "outputs": []
    },
    {
      "cell_type": "markdown",
      "metadata": {
        "id": "msdtiUOWJdBh"
      },
      "source": [
        "#### Split the data into training and testing sets\n",
        "With time series, we cannot just take a random sample to train or test on. We split the dataset while maintaining the chronological order. The \"older\" part will be used for training, the newer one for testing."
      ]
    },
    {
      "cell_type": "code",
      "metadata": {
        "id": "pblzy8GcJdBh",
        "outputId": "7dc13aef-e570-4201-d7dc-756ef9e98a63",
        "colab": {
          "base_uri": "https://localhost:8080/"
        }
      },
      "source": [
        "# split into train and test sets\n",
        "TRAIN_PC=0.7 # percentage to train on\n",
        "\n",
        "train_size = int(len(dataset) * TRAIN_PC)\n",
        "test_size = len(dataset) - train_size\n",
        "train, test = dataset[0:train_size,:], dataset[train_size:len(dataset),:]\n",
        "print(len(train), len(test))"
      ],
      "execution_count": null,
      "outputs": [
        {
          "output_type": "stream",
          "text": [
            "100 44\n"
          ],
          "name": "stdout"
        }
      ]
    },
    {
      "cell_type": "markdown",
      "metadata": {
        "id": "LWK4e9VoJdBj"
      },
      "source": [
        "To train a neural network for regression, we need to provide an input X and an output Y.  \n",
        "In our case the output at time t is determined by the input at time t-1. In other words, the output is the input shifted back by a given lag value. The lag is often referred to as \"look-back\"."
      ]
    },
    {
      "cell_type": "code",
      "metadata": {
        "id": "qWeJFOMbJdBj"
      },
      "source": [
        "# target index is the column n. that contains the target variable to be predicted. In our case we have 1 column, so it is 0. \n",
        "# lag is how far back we need to shift to train, or how far forward we need to predict.\n",
        "def create_xy(dataset, target_index, lag=1):\n",
        "    dataX, dataY = [], []\n",
        "    for i in range(len(dataset)-lag-1):\n",
        "        a = dataset[i:(i+lag), target_index]\n",
        "        dataX.append(a)\n",
        "        dataY.append(dataset[i + lag, target_index])\n",
        "    return np.array(dataX), np.array(dataY)"
      ],
      "execution_count": null,
      "outputs": []
    },
    {
      "cell_type": "code",
      "metadata": {
        "id": "tyV7CtLbJdBl"
      },
      "source": [
        "LAG = 1\n",
        "TARGET_INDEX=0\n",
        "\n",
        "trainX, trainY = create_xy(train, TARGET_INDEX, LAG)\n",
        "testX, testY = create_xy(test, TARGET_INDEX, LAG)"
      ],
      "execution_count": null,
      "outputs": []
    },
    {
      "cell_type": "code",
      "metadata": {
        "id": "NriIwEdbJdBo",
        "outputId": "739ef51e-2ebb-408a-d4f3-4972d34046b0",
        "colab": {
          "base_uri": "https://localhost:8080/"
        }
      },
      "source": [
        "trainX.shape"
      ],
      "execution_count": null,
      "outputs": [
        {
          "output_type": "execute_result",
          "data": {
            "text/plain": [
              "(98, 1)"
            ]
          },
          "metadata": {
            "tags": []
          },
          "execution_count": 13
        }
      ]
    },
    {
      "cell_type": "code",
      "metadata": {
        "id": "PjVDvRm3JdBq",
        "outputId": "6e3a412a-c9a7-46b7-8ffc-1735c8005720",
        "colab": {
          "base_uri": "https://localhost:8080/"
        }
      },
      "source": [
        "trainX"
      ],
      "execution_count": null,
      "outputs": [
        {
          "output_type": "execute_result",
          "data": {
            "text/plain": [
              "array([[0.01544401],\n",
              "       [0.02702703],\n",
              "       [0.05405405],\n",
              "       [0.04826255],\n",
              "       [0.03281853],\n",
              "       [0.05984557],\n",
              "       [0.08494207],\n",
              "       [0.08494207],\n",
              "       [0.06177607],\n",
              "       [0.02895753],\n",
              "       [0.        ],\n",
              "       [0.02702703],\n",
              "       [0.02123553],\n",
              "       [0.04247104],\n",
              "       [0.07142857],\n",
              "       [0.05984557],\n",
              "       [0.04054055],\n",
              "       [0.08687258],\n",
              "       [0.12741312],\n",
              "       [0.12741312],\n",
              "       [0.10424709],\n",
              "       [0.05598456],\n",
              "       [0.01930502],\n",
              "       [0.06949806],\n",
              "       [0.07915059],\n",
              "       [0.08880308],\n",
              "       [0.14285713],\n",
              "       [0.11389962],\n",
              "       [0.13127413],\n",
              "       [0.14285713],\n",
              "       [0.18339768],\n",
              "       [0.18339768],\n",
              "       [0.15444016],\n",
              "       [0.11196911],\n",
              "       [0.08108109],\n",
              "       [0.1196911 ],\n",
              "       [0.12934363],\n",
              "       [0.14671814],\n",
              "       [0.17181468],\n",
              "       [0.14864865],\n",
              "       [0.15250966],\n",
              "       [0.22007722],\n",
              "       [0.24324325],\n",
              "       [0.26640925],\n",
              "       [0.2027027 ],\n",
              "       [0.16795367],\n",
              "       [0.13127413],\n",
              "       [0.17374519],\n",
              "       [0.17760617],\n",
              "       [0.17760617],\n",
              "       [0.25482625],\n",
              "       [0.25289574],\n",
              "       [0.24131274],\n",
              "       [0.26833975],\n",
              "       [0.3088803 ],\n",
              "       [0.32432434],\n",
              "       [0.25675675],\n",
              "       [0.20656371],\n",
              "       [0.14671814],\n",
              "       [0.18725869],\n",
              "       [0.19305018],\n",
              "       [0.16216215],\n",
              "       [0.25289574],\n",
              "       [0.23745173],\n",
              "       [0.25096524],\n",
              "       [0.3088803 ],\n",
              "       [0.38223937],\n",
              "       [0.36486486],\n",
              "       [0.2992278 ],\n",
              "       [0.24131274],\n",
              "       [0.1911197 ],\n",
              "       [0.24131274],\n",
              "       [0.26640925],\n",
              "       [0.24903473],\n",
              "       [0.31467178],\n",
              "       [0.3185328 ],\n",
              "       [0.32046333],\n",
              "       [0.4073359 ],\n",
              "       [0.5019305 ],\n",
              "       [0.46911195],\n",
              "       [0.40154442],\n",
              "       [0.32818535],\n",
              "       [0.25675675],\n",
              "       [0.3359073 ],\n",
              "       [0.34749034],\n",
              "       [0.33397684],\n",
              "       [0.41119692],\n",
              "       [0.4034749 ],\n",
              "       [0.4131274 ],\n",
              "       [0.52123547],\n",
              "       [0.5965251 ],\n",
              "       [0.58108103],\n",
              "       [0.484556  ],\n",
              "       [0.3899614 ],\n",
              "       [0.3223938 ],\n",
              "       [0.3899614 ],\n",
              "       [0.4073359 ],\n",
              "       [0.3803089 ]], dtype=float32)"
            ]
          },
          "metadata": {
            "tags": []
          },
          "execution_count": 14
        }
      ]
    },
    {
      "cell_type": "markdown",
      "metadata": {
        "id": "HcPyojnUJdBs"
      },
      "source": [
        "The LSTM network block in Keras requires the input X to be shaped as an array with: [n. of. samples, time steps, n. of features].  \n",
        "Our data is in the form: [n. of samples, n. of features] and we have one time step for each sample.   \n",
        "We can reshape the data with numpy."
      ]
    },
    {
      "cell_type": "code",
      "metadata": {
        "id": "t-UJcsqOJdBt",
        "outputId": "1a643a12-51fb-4a5c-f944-792bafd63918",
        "colab": {
          "base_uri": "https://localhost:8080/"
        }
      },
      "source": [
        "# reshape input to be [n. of samples, time steps, n. of features]\n",
        "trainX = np.reshape(trainX, (trainX.shape[0], 1, trainX.shape[1]))\n",
        "testX = np.reshape(testX, (testX.shape[0], 1, testX.shape[1]))\n",
        "trainX"
      ],
      "execution_count": null,
      "outputs": [
        {
          "output_type": "execute_result",
          "data": {
            "text/plain": [
              "array([[[0.01544401]],\n",
              "\n",
              "       [[0.02702703]],\n",
              "\n",
              "       [[0.05405405]],\n",
              "\n",
              "       [[0.04826255]],\n",
              "\n",
              "       [[0.03281853]],\n",
              "\n",
              "       [[0.05984557]],\n",
              "\n",
              "       [[0.08494207]],\n",
              "\n",
              "       [[0.08494207]],\n",
              "\n",
              "       [[0.06177607]],\n",
              "\n",
              "       [[0.02895753]],\n",
              "\n",
              "       [[0.        ]],\n",
              "\n",
              "       [[0.02702703]],\n",
              "\n",
              "       [[0.02123553]],\n",
              "\n",
              "       [[0.04247104]],\n",
              "\n",
              "       [[0.07142857]],\n",
              "\n",
              "       [[0.05984557]],\n",
              "\n",
              "       [[0.04054055]],\n",
              "\n",
              "       [[0.08687258]],\n",
              "\n",
              "       [[0.12741312]],\n",
              "\n",
              "       [[0.12741312]],\n",
              "\n",
              "       [[0.10424709]],\n",
              "\n",
              "       [[0.05598456]],\n",
              "\n",
              "       [[0.01930502]],\n",
              "\n",
              "       [[0.06949806]],\n",
              "\n",
              "       [[0.07915059]],\n",
              "\n",
              "       [[0.08880308]],\n",
              "\n",
              "       [[0.14285713]],\n",
              "\n",
              "       [[0.11389962]],\n",
              "\n",
              "       [[0.13127413]],\n",
              "\n",
              "       [[0.14285713]],\n",
              "\n",
              "       [[0.18339768]],\n",
              "\n",
              "       [[0.18339768]],\n",
              "\n",
              "       [[0.15444016]],\n",
              "\n",
              "       [[0.11196911]],\n",
              "\n",
              "       [[0.08108109]],\n",
              "\n",
              "       [[0.1196911 ]],\n",
              "\n",
              "       [[0.12934363]],\n",
              "\n",
              "       [[0.14671814]],\n",
              "\n",
              "       [[0.17181468]],\n",
              "\n",
              "       [[0.14864865]],\n",
              "\n",
              "       [[0.15250966]],\n",
              "\n",
              "       [[0.22007722]],\n",
              "\n",
              "       [[0.24324325]],\n",
              "\n",
              "       [[0.26640925]],\n",
              "\n",
              "       [[0.2027027 ]],\n",
              "\n",
              "       [[0.16795367]],\n",
              "\n",
              "       [[0.13127413]],\n",
              "\n",
              "       [[0.17374519]],\n",
              "\n",
              "       [[0.17760617]],\n",
              "\n",
              "       [[0.17760617]],\n",
              "\n",
              "       [[0.25482625]],\n",
              "\n",
              "       [[0.25289574]],\n",
              "\n",
              "       [[0.24131274]],\n",
              "\n",
              "       [[0.26833975]],\n",
              "\n",
              "       [[0.3088803 ]],\n",
              "\n",
              "       [[0.32432434]],\n",
              "\n",
              "       [[0.25675675]],\n",
              "\n",
              "       [[0.20656371]],\n",
              "\n",
              "       [[0.14671814]],\n",
              "\n",
              "       [[0.18725869]],\n",
              "\n",
              "       [[0.19305018]],\n",
              "\n",
              "       [[0.16216215]],\n",
              "\n",
              "       [[0.25289574]],\n",
              "\n",
              "       [[0.23745173]],\n",
              "\n",
              "       [[0.25096524]],\n",
              "\n",
              "       [[0.3088803 ]],\n",
              "\n",
              "       [[0.38223937]],\n",
              "\n",
              "       [[0.36486486]],\n",
              "\n",
              "       [[0.2992278 ]],\n",
              "\n",
              "       [[0.24131274]],\n",
              "\n",
              "       [[0.1911197 ]],\n",
              "\n",
              "       [[0.24131274]],\n",
              "\n",
              "       [[0.26640925]],\n",
              "\n",
              "       [[0.24903473]],\n",
              "\n",
              "       [[0.31467178]],\n",
              "\n",
              "       [[0.3185328 ]],\n",
              "\n",
              "       [[0.32046333]],\n",
              "\n",
              "       [[0.4073359 ]],\n",
              "\n",
              "       [[0.5019305 ]],\n",
              "\n",
              "       [[0.46911195]],\n",
              "\n",
              "       [[0.40154442]],\n",
              "\n",
              "       [[0.32818535]],\n",
              "\n",
              "       [[0.25675675]],\n",
              "\n",
              "       [[0.3359073 ]],\n",
              "\n",
              "       [[0.34749034]],\n",
              "\n",
              "       [[0.33397684]],\n",
              "\n",
              "       [[0.41119692]],\n",
              "\n",
              "       [[0.4034749 ]],\n",
              "\n",
              "       [[0.4131274 ]],\n",
              "\n",
              "       [[0.52123547]],\n",
              "\n",
              "       [[0.5965251 ]],\n",
              "\n",
              "       [[0.58108103]],\n",
              "\n",
              "       [[0.484556  ]],\n",
              "\n",
              "       [[0.3899614 ]],\n",
              "\n",
              "       [[0.3223938 ]],\n",
              "\n",
              "       [[0.3899614 ]],\n",
              "\n",
              "       [[0.4073359 ]],\n",
              "\n",
              "       [[0.3803089 ]]], dtype=float32)"
            ]
          },
          "metadata": {
            "tags": []
          },
          "execution_count": 15
        }
      ]
    },
    {
      "cell_type": "code",
      "metadata": {
        "id": "HNmaE_7fJdBv",
        "outputId": "b73427d0-c313-4acd-e70b-44bc794bb747",
        "colab": {
          "base_uri": "https://localhost:8080/"
        }
      },
      "source": [
        "trainX.shape"
      ],
      "execution_count": null,
      "outputs": [
        {
          "output_type": "execute_result",
          "data": {
            "text/plain": [
              "(98, 1, 1)"
            ]
          },
          "metadata": {
            "tags": []
          },
          "execution_count": 16
        }
      ]
    },
    {
      "cell_type": "markdown",
      "metadata": {
        "id": "oqcCj7yFJdBw"
      },
      "source": [
        "#### Design the LSTM network"
      ]
    },
    {
      "cell_type": "markdown",
      "metadata": {
        "id": "s4z9GOm8JdBx"
      },
      "source": [
        "We build a network with 1 input, a hidden layer with 4 LSTM blocks, and an output layer with one output.  \n",
        "We use the the default sigmoid activation function for the LSTM blocks.  \n",
        "Given the small size of the data, we set a batch size of 1 and train for 100 epochs."
      ]
    },
    {
      "cell_type": "code",
      "metadata": {
        "id": "pSBXMwkHJdBx"
      },
      "source": [
        "# create the LSTM network\n",
        "model = Sequential()\n",
        "model.add(LSTM(4, input_shape=(1, LAG)))\n",
        "model.add(Dense(1))\n",
        "model.compile(loss='mean_squared_error', optimizer='adam')"
      ],
      "execution_count": null,
      "outputs": []
    },
    {
      "cell_type": "code",
      "metadata": {
        "scrolled": true,
        "id": "zb8Qur1IJdBz",
        "outputId": "b29f7d58-d54d-4501-937a-027ab3ce7582",
        "colab": {
          "base_uri": "https://localhost:8080/"
        }
      },
      "source": [
        "# train the network\n",
        "model.fit(trainX, trainY, epochs=100, batch_size=1, verbose=1)"
      ],
      "execution_count": null,
      "outputs": [
        {
          "output_type": "stream",
          "text": [
            "Epoch 1/100\n",
            "98/98 [==============================] - 0s 1ms/step - loss: 0.0457\n",
            "Epoch 2/100\n",
            "98/98 [==============================] - 0s 3ms/step - loss: 0.0230\n",
            "Epoch 3/100\n",
            "98/98 [==============================] - 0s 1ms/step - loss: 0.0175\n",
            "Epoch 4/100\n",
            "98/98 [==============================] - 0s 1ms/step - loss: 0.0158\n",
            "Epoch 5/100\n",
            "98/98 [==============================] - 0s 1ms/step - loss: 0.0149\n",
            "Epoch 6/100\n",
            "98/98 [==============================] - 0s 1ms/step - loss: 0.0140\n",
            "Epoch 7/100\n",
            "98/98 [==============================] - 0s 1ms/step - loss: 0.0132\n",
            "Epoch 8/100\n",
            "98/98 [==============================] - 0s 1ms/step - loss: 0.0124\n",
            "Epoch 9/100\n",
            "98/98 [==============================] - 0s 1ms/step - loss: 0.0116\n",
            "Epoch 10/100\n",
            "98/98 [==============================] - 0s 1ms/step - loss: 0.0108\n",
            "Epoch 11/100\n",
            "98/98 [==============================] - 0s 1ms/step - loss: 0.0099\n",
            "Epoch 12/100\n",
            "98/98 [==============================] - 0s 1ms/step - loss: 0.0093\n",
            "Epoch 13/100\n",
            "98/98 [==============================] - 0s 1ms/step - loss: 0.0084\n",
            "Epoch 14/100\n",
            "98/98 [==============================] - 0s 1ms/step - loss: 0.0076\n",
            "Epoch 15/100\n",
            "98/98 [==============================] - 0s 1ms/step - loss: 0.0069\n",
            "Epoch 16/100\n",
            "98/98 [==============================] - 0s 1ms/step - loss: 0.0062\n",
            "Epoch 17/100\n",
            "98/98 [==============================] - 0s 1ms/step - loss: 0.0055\n",
            "Epoch 18/100\n",
            "98/98 [==============================] - 0s 1ms/step - loss: 0.0049\n",
            "Epoch 19/100\n",
            "98/98 [==============================] - 0s 1ms/step - loss: 0.0044\n",
            "Epoch 20/100\n",
            "98/98 [==============================] - 0s 1ms/step - loss: 0.0039\n",
            "Epoch 21/100\n",
            "98/98 [==============================] - 0s 1ms/step - loss: 0.0035\n",
            "Epoch 22/100\n",
            "98/98 [==============================] - 0s 1ms/step - loss: 0.0032\n",
            "Epoch 23/100\n",
            "98/98 [==============================] - 0s 1ms/step - loss: 0.0028\n",
            "Epoch 24/100\n",
            "98/98 [==============================] - 0s 1ms/step - loss: 0.0027\n",
            "Epoch 25/100\n",
            "98/98 [==============================] - 0s 1ms/step - loss: 0.0025\n",
            "Epoch 26/100\n",
            "98/98 [==============================] - 0s 1ms/step - loss: 0.0024\n",
            "Epoch 27/100\n",
            "98/98 [==============================] - 0s 1ms/step - loss: 0.0023\n",
            "Epoch 28/100\n",
            "98/98 [==============================] - 0s 1ms/step - loss: 0.0022\n",
            "Epoch 29/100\n",
            "98/98 [==============================] - 0s 1ms/step - loss: 0.0022\n",
            "Epoch 30/100\n",
            "98/98 [==============================] - 0s 1ms/step - loss: 0.0022\n",
            "Epoch 31/100\n",
            "98/98 [==============================] - 0s 1ms/step - loss: 0.0022\n",
            "Epoch 32/100\n",
            "98/98 [==============================] - 0s 1ms/step - loss: 0.0021\n",
            "Epoch 33/100\n",
            "98/98 [==============================] - 0s 1ms/step - loss: 0.0022\n",
            "Epoch 34/100\n",
            "98/98 [==============================] - 0s 1ms/step - loss: 0.0022\n",
            "Epoch 35/100\n",
            "98/98 [==============================] - 0s 1ms/step - loss: 0.0021\n",
            "Epoch 36/100\n",
            "98/98 [==============================] - 0s 1ms/step - loss: 0.0021\n",
            "Epoch 37/100\n",
            "98/98 [==============================] - 0s 1ms/step - loss: 0.0022\n",
            "Epoch 38/100\n",
            "98/98 [==============================] - 0s 1ms/step - loss: 0.0021\n",
            "Epoch 39/100\n",
            "98/98 [==============================] - 0s 1ms/step - loss: 0.0021\n",
            "Epoch 40/100\n",
            "98/98 [==============================] - 0s 1ms/step - loss: 0.0021\n",
            "Epoch 41/100\n",
            "98/98 [==============================] - 0s 1ms/step - loss: 0.0021\n",
            "Epoch 42/100\n",
            "98/98 [==============================] - 0s 1ms/step - loss: 0.0021\n",
            "Epoch 43/100\n",
            "98/98 [==============================] - 0s 1ms/step - loss: 0.0021\n",
            "Epoch 44/100\n",
            "98/98 [==============================] - 0s 1ms/step - loss: 0.0021\n",
            "Epoch 45/100\n",
            "98/98 [==============================] - 0s 1ms/step - loss: 0.0021\n",
            "Epoch 46/100\n",
            "98/98 [==============================] - 0s 1ms/step - loss: 0.0021\n",
            "Epoch 47/100\n",
            "98/98 [==============================] - 0s 1ms/step - loss: 0.0021\n",
            "Epoch 48/100\n",
            "98/98 [==============================] - 0s 1ms/step - loss: 0.0021\n",
            "Epoch 49/100\n",
            "98/98 [==============================] - 0s 1ms/step - loss: 0.0021\n",
            "Epoch 50/100\n",
            "98/98 [==============================] - 0s 1ms/step - loss: 0.0021\n",
            "Epoch 51/100\n",
            "98/98 [==============================] - 0s 1ms/step - loss: 0.0021\n",
            "Epoch 52/100\n",
            "98/98 [==============================] - 0s 1ms/step - loss: 0.0021\n",
            "Epoch 53/100\n",
            "98/98 [==============================] - 0s 1ms/step - loss: 0.0021\n",
            "Epoch 54/100\n",
            "98/98 [==============================] - 0s 2ms/step - loss: 0.0022\n",
            "Epoch 55/100\n",
            "98/98 [==============================] - 0s 1ms/step - loss: 0.0021\n",
            "Epoch 56/100\n",
            "98/98 [==============================] - 0s 1ms/step - loss: 0.0021\n",
            "Epoch 57/100\n",
            "98/98 [==============================] - 0s 1ms/step - loss: 0.0021\n",
            "Epoch 58/100\n",
            "98/98 [==============================] - 0s 1ms/step - loss: 0.0021\n",
            "Epoch 59/100\n",
            "98/98 [==============================] - 0s 1ms/step - loss: 0.0021\n",
            "Epoch 60/100\n",
            "98/98 [==============================] - 0s 1ms/step - loss: 0.0021\n",
            "Epoch 61/100\n",
            "98/98 [==============================] - 0s 1ms/step - loss: 0.0021\n",
            "Epoch 62/100\n",
            "98/98 [==============================] - 0s 1ms/step - loss: 0.0021\n",
            "Epoch 63/100\n",
            "98/98 [==============================] - 0s 1ms/step - loss: 0.0021\n",
            "Epoch 64/100\n",
            "98/98 [==============================] - 0s 1ms/step - loss: 0.0021\n",
            "Epoch 65/100\n",
            "98/98 [==============================] - 0s 1ms/step - loss: 0.0021\n",
            "Epoch 66/100\n",
            "98/98 [==============================] - 0s 1ms/step - loss: 0.0021\n",
            "Epoch 67/100\n",
            "98/98 [==============================] - 0s 1ms/step - loss: 0.0022\n",
            "Epoch 68/100\n",
            "98/98 [==============================] - 0s 1ms/step - loss: 0.0021\n",
            "Epoch 69/100\n",
            "98/98 [==============================] - 0s 1ms/step - loss: 0.0021\n",
            "Epoch 70/100\n",
            "98/98 [==============================] - 0s 1ms/step - loss: 0.0021\n",
            "Epoch 71/100\n",
            "98/98 [==============================] - 0s 1ms/step - loss: 0.0021\n",
            "Epoch 72/100\n",
            "98/98 [==============================] - 0s 1ms/step - loss: 0.0021\n",
            "Epoch 73/100\n",
            "98/98 [==============================] - 0s 1ms/step - loss: 0.0021\n",
            "Epoch 74/100\n",
            "98/98 [==============================] - 0s 1ms/step - loss: 0.0021\n",
            "Epoch 75/100\n",
            "98/98 [==============================] - 0s 1ms/step - loss: 0.0021\n",
            "Epoch 76/100\n",
            "98/98 [==============================] - 0s 1ms/step - loss: 0.0021\n",
            "Epoch 77/100\n",
            "98/98 [==============================] - 0s 1ms/step - loss: 0.0021\n",
            "Epoch 78/100\n",
            "98/98 [==============================] - 0s 1ms/step - loss: 0.0021\n",
            "Epoch 79/100\n",
            "98/98 [==============================] - 0s 1ms/step - loss: 0.0021\n",
            "Epoch 80/100\n",
            "98/98 [==============================] - 0s 1ms/step - loss: 0.0021\n",
            "Epoch 81/100\n",
            "98/98 [==============================] - 0s 1ms/step - loss: 0.0021\n",
            "Epoch 82/100\n",
            "98/98 [==============================] - 0s 1ms/step - loss: 0.0021\n",
            "Epoch 83/100\n",
            "98/98 [==============================] - 0s 1ms/step - loss: 0.0021\n",
            "Epoch 84/100\n",
            "98/98 [==============================] - 0s 1ms/step - loss: 0.0021\n",
            "Epoch 85/100\n",
            "98/98 [==============================] - 0s 1ms/step - loss: 0.0021\n",
            "Epoch 86/100\n",
            "98/98 [==============================] - 0s 1ms/step - loss: 0.0021\n",
            "Epoch 87/100\n",
            "98/98 [==============================] - 0s 1ms/step - loss: 0.0021\n",
            "Epoch 88/100\n",
            "98/98 [==============================] - 0s 1ms/step - loss: 0.0021\n",
            "Epoch 89/100\n",
            "98/98 [==============================] - 0s 1ms/step - loss: 0.0021\n",
            "Epoch 90/100\n",
            "98/98 [==============================] - 0s 1ms/step - loss: 0.0021\n",
            "Epoch 91/100\n",
            "98/98 [==============================] - 0s 1ms/step - loss: 0.0021\n",
            "Epoch 92/100\n",
            "98/98 [==============================] - 0s 1ms/step - loss: 0.0021\n",
            "Epoch 93/100\n",
            "98/98 [==============================] - 0s 1ms/step - loss: 0.0021\n",
            "Epoch 94/100\n",
            "98/98 [==============================] - 0s 1ms/step - loss: 0.0022\n",
            "Epoch 95/100\n",
            "98/98 [==============================] - 0s 1ms/step - loss: 0.0021\n",
            "Epoch 96/100\n",
            "98/98 [==============================] - 0s 1ms/step - loss: 0.0022\n",
            "Epoch 97/100\n",
            "98/98 [==============================] - 0s 1ms/step - loss: 0.0021\n",
            "Epoch 98/100\n",
            "98/98 [==============================] - 0s 1ms/step - loss: 0.0021\n",
            "Epoch 99/100\n",
            "98/98 [==============================] - 0s 1ms/step - loss: 0.0021\n",
            "Epoch 100/100\n",
            "98/98 [==============================] - 0s 1ms/step - loss: 0.0021\n"
          ],
          "name": "stdout"
        },
        {
          "output_type": "execute_result",
          "data": {
            "text/plain": [
              "<tensorflow.python.keras.callbacks.History at 0x7f15c05f1fd0>"
            ]
          },
          "metadata": {
            "tags": []
          },
          "execution_count": 18
        }
      ]
    },
    {
      "cell_type": "markdown",
      "metadata": {
        "id": "dl3Bu1N2JdB1"
      },
      "source": [
        "Now we want to extract the network predictions on both the train and test sets, then measure its regression performance. The predictions will be normalized in [0.1], so we need to de-normalize them in order to compare them with the original data set.  \n",
        "For performance measurement, we'll use both the root-mean-squared error and the coefficient of determination (aka R2 score).\n"
      ]
    },
    {
      "cell_type": "code",
      "metadata": {
        "id": "nrwwegD2JdB1"
      },
      "source": [
        "# make predictions\n",
        "trainPredict = model.predict(trainX)\n",
        "testPredict = model.predict(testX)"
      ],
      "execution_count": null,
      "outputs": []
    },
    {
      "cell_type": "code",
      "metadata": {
        "id": "T3Fl9YaGJdB3"
      },
      "source": [
        "# de-normalize predictions\n",
        "trainPredict = scaler.inverse_transform(trainPredict)\n",
        "trainY = scaler.inverse_transform([trainY])\n",
        "testPredict = scaler.inverse_transform(testPredict)\n",
        "testY = scaler.inverse_transform([testY])"
      ],
      "execution_count": null,
      "outputs": []
    },
    {
      "cell_type": "code",
      "metadata": {
        "id": "ii7A3ru0JdB5",
        "outputId": "6fc939d7-9b7c-4dae-af36-ef33e89f7ab4",
        "colab": {
          "base_uri": "https://localhost:8080/"
        }
      },
      "source": [
        "# calculate root mean squared error and coefficient of determination\n",
        "trainScore = math.sqrt(mean_squared_error(trainY[0], trainPredict[:,0]))\n",
        "r2trainScore=r2_score(trainY[0], trainPredict[:,0])\n",
        "print('Train Score: RMSE = %.2f, R2 = %2f' % (trainScore, r2trainScore))\n",
        "testScore = math.sqrt(mean_squared_error(testY[0], testPredict[:,0]))\n",
        "r2testScore=r2_score(testY[0], testPredict[:,0])\n",
        "print('Test Score: RMSE = %.2f, R2 = %.2f' % (testScore, r2testScore))"
      ],
      "execution_count": null,
      "outputs": [
        {
          "output_type": "stream",
          "text": [
            "Train Score: RMSE = 23.27, R2 = 0.897362\n",
            "Test Score: RMSE = 49.64, R2 = 0.59\n"
          ],
          "name": "stdout"
        }
      ]
    },
    {
      "cell_type": "markdown",
      "metadata": {
        "id": "SCkdlKC6JdB6"
      },
      "source": [
        "We can see that the model did a good job of fitting the training set, not as good on the test set.\n",
        "#### Plot the results"
      ]
    },
    {
      "cell_type": "code",
      "metadata": {
        "id": "8kDxXm8QJdB7",
        "outputId": "1fac5aee-33c9-4c59-ff5a-a6a5921c6cd8",
        "colab": {
          "base_uri": "https://localhost:8080/",
          "height": 320
        }
      },
      "source": [
        "# shift train predictions for plotting\n",
        "trainPredictPlot = np.empty_like(dataset)\n",
        "trainPredictPlot[:, :] = np.nan\n",
        "trainPredictPlot[LAG:len(trainPredict)+LAG, :] = trainPredict\n",
        "# shift test predictions for plotting\n",
        "testPredictPlot = np.empty_like(dataset)\n",
        "testPredictPlot[:, :] = np.nan\n",
        "testPredictPlot[len(trainPredict)+(LAG*2)+1:len(dataset)-1, :] = testPredict\n",
        "# plot baseline and predictions\n",
        "plt.figure(figsize=(8,5))\n",
        "plt.plot(scaler.inverse_transform(dataset))\n",
        "plt.plot(trainPredictPlot)\n",
        "plt.plot(testPredictPlot)\n",
        "plt.show()"
      ],
      "execution_count": null,
      "outputs": [
        {
          "output_type": "display_data",
          "data": {
            "image/png": "[encoded data removed]",
            "text/plain": [
              "<Figure size 576x360 with 1 Axes>"
            ]
          },
          "metadata": {
            "tags": [],
            "needs_background": "light"
          }
        }
      ]
    },
    {
      "cell_type": "markdown",
      "metadata": {
        "id": "1okjgBqCJdB8"
      },
      "source": [
        "### Using a window of past features\n",
        "So far, we have considered only the current input to predict one time step ahead. That is often not sufficient to capture all the information we need. We can use a window of past time steps to compute a future one. For example, the value at time t+1 may depend on the values at times t, t-1, t-2. \n",
        "In other words, we want to use a lag=3.  \n",
        "The lag is a parameter that will need to be tuned for the problem at hand."
      ]
    },
    {
      "cell_type": "code",
      "metadata": {
        "scrolled": true,
        "id": "-iVZARoYJdB9",
        "outputId": "4bfe16d5-1822-4a14-94af-8ba84d49fa53",
        "colab": {
          "base_uri": "https://localhost:8080/"
        }
      },
      "source": [
        "LAG = 3\n",
        "trainX, trainY = create_xy(train, 0, LAG)\n",
        "testX, testY = create_xy(test, 0, LAG)\n",
        "trainX"
      ],
      "execution_count": null,
      "outputs": [
        {
          "output_type": "execute_result",
          "data": {
            "text/plain": [
              "array([[0.01544401, 0.02702703, 0.05405405],\n",
              "       [0.02702703, 0.05405405, 0.04826255],\n",
              "       [0.05405405, 0.04826255, 0.03281853],\n",
              "       [0.04826255, 0.03281853, 0.05984557],\n",
              "       [0.03281853, 0.05984557, 0.08494207],\n",
              "       [0.05984557, 0.08494207, 0.08494207],\n",
              "       [0.08494207, 0.08494207, 0.06177607],\n",
              "       [0.08494207, 0.06177607, 0.02895753],\n",
              "       [0.06177607, 0.02895753, 0.        ],\n",
              "       [0.02895753, 0.        , 0.02702703],\n",
              "       [0.        , 0.02702703, 0.02123553],\n",
              "       [0.02702703, 0.02123553, 0.04247104],\n",
              "       [0.02123553, 0.04247104, 0.07142857],\n",
              "       [0.04247104, 0.07142857, 0.05984557],\n",
              "       [0.07142857, 0.05984557, 0.04054055],\n",
              "       [0.05984557, 0.04054055, 0.08687258],\n",
              "       [0.04054055, 0.08687258, 0.12741312],\n",
              "       [0.08687258, 0.12741312, 0.12741312],\n",
              "       [0.12741312, 0.12741312, 0.10424709],\n",
              "       [0.12741312, 0.10424709, 0.05598456],\n",
              "       [0.10424709, 0.05598456, 0.01930502],\n",
              "       [0.05598456, 0.01930502, 0.06949806],\n",
              "       [0.01930502, 0.06949806, 0.07915059],\n",
              "       [0.06949806, 0.07915059, 0.08880308],\n",
              "       [0.07915059, 0.08880308, 0.14285713],\n",
              "       [0.08880308, 0.14285713, 0.11389962],\n",
              "       [0.14285713, 0.11389962, 0.13127413],\n",
              "       [0.11389962, 0.13127413, 0.14285713],\n",
              "       [0.13127413, 0.14285713, 0.18339768],\n",
              "       [0.14285713, 0.18339768, 0.18339768],\n",
              "       [0.18339768, 0.18339768, 0.15444016],\n",
              "       [0.18339768, 0.15444016, 0.11196911],\n",
              "       [0.15444016, 0.11196911, 0.08108109],\n",
              "       [0.11196911, 0.08108109, 0.1196911 ],\n",
              "       [0.08108109, 0.1196911 , 0.12934363],\n",
              "       [0.1196911 , 0.12934363, 0.14671814],\n",
              "       [0.12934363, 0.14671814, 0.17181468],\n",
              "       [0.14671814, 0.17181468, 0.14864865],\n",
              "       [0.17181468, 0.14864865, 0.15250966],\n",
              "       [0.14864865, 0.15250966, 0.22007722],\n",
              "       [0.15250966, 0.22007722, 0.24324325],\n",
              "       [0.22007722, 0.24324325, 0.26640925],\n",
              "       [0.24324325, 0.26640925, 0.2027027 ],\n",
              "       [0.26640925, 0.2027027 , 0.16795367],\n",
              "       [0.2027027 , 0.16795367, 0.13127413],\n",
              "       [0.16795367, 0.13127413, 0.17374519],\n",
              "       [0.13127413, 0.17374519, 0.17760617],\n",
              "       [0.17374519, 0.17760617, 0.17760617],\n",
              "       [0.17760617, 0.17760617, 0.25482625],\n",
              "       [0.17760617, 0.25482625, 0.25289574],\n",
              "       [0.25482625, 0.25289574, 0.24131274],\n",
              "       [0.25289574, 0.24131274, 0.26833975],\n",
              "       [0.24131274, 0.26833975, 0.3088803 ],\n",
              "       [0.26833975, 0.3088803 , 0.32432434],\n",
              "       [0.3088803 , 0.32432434, 0.25675675],\n",
              "       [0.32432434, 0.25675675, 0.20656371],\n",
              "       [0.25675675, 0.20656371, 0.14671814],\n",
              "       [0.20656371, 0.14671814, 0.18725869],\n",
              "       [0.14671814, 0.18725869, 0.19305018],\n",
              "       [0.18725869, 0.19305018, 0.16216215],\n",
              "       [0.19305018, 0.16216215, 0.25289574],\n",
              "       [0.16216215, 0.25289574, 0.23745173],\n",
              "       [0.25289574, 0.23745173, 0.25096524],\n",
              "       [0.23745173, 0.25096524, 0.3088803 ],\n",
              "       [0.25096524, 0.3088803 , 0.38223937],\n",
              "       [0.3088803 , 0.38223937, 0.36486486],\n",
              "       [0.38223937, 0.36486486, 0.2992278 ],\n",
              "       [0.36486486, 0.2992278 , 0.24131274],\n",
              "       [0.2992278 , 0.24131274, 0.1911197 ],\n",
              "       [0.24131274, 0.1911197 , 0.24131274],\n",
              "       [0.1911197 , 0.24131274, 0.26640925],\n",
              "       [0.24131274, 0.26640925, 0.24903473],\n",
              "       [0.26640925, 0.24903473, 0.31467178],\n",
              "       [0.24903473, 0.31467178, 0.3185328 ],\n",
              "       [0.31467178, 0.3185328 , 0.32046333],\n",
              "       [0.3185328 , 0.32046333, 0.4073359 ],\n",
              "       [0.32046333, 0.4073359 , 0.5019305 ],\n",
              "       [0.4073359 , 0.5019305 , 0.46911195],\n",
              "       [0.5019305 , 0.46911195, 0.40154442],\n",
              "       [0.46911195, 0.40154442, 0.32818535],\n",
              "       [0.40154442, 0.32818535, 0.25675675],\n",
              "       [0.32818535, 0.25675675, 0.3359073 ],\n",
              "       [0.25675675, 0.3359073 , 0.34749034],\n",
              "       [0.3359073 , 0.34749034, 0.33397684],\n",
              "       [0.34749034, 0.33397684, 0.41119692],\n",
              "       [0.33397684, 0.41119692, 0.4034749 ],\n",
              "       [0.41119692, 0.4034749 , 0.4131274 ],\n",
              "       [0.4034749 , 0.4131274 , 0.52123547],\n",
              "       [0.4131274 , 0.52123547, 0.5965251 ],\n",
              "       [0.52123547, 0.5965251 , 0.58108103],\n",
              "       [0.5965251 , 0.58108103, 0.484556  ],\n",
              "       [0.58108103, 0.484556  , 0.3899614 ],\n",
              "       [0.484556  , 0.3899614 , 0.3223938 ],\n",
              "       [0.3899614 , 0.3223938 , 0.3899614 ],\n",
              "       [0.3223938 , 0.3899614 , 0.4073359 ],\n",
              "       [0.3899614 , 0.4073359 , 0.3803089 ]], dtype=float32)"
            ]
          },
          "metadata": {
            "tags": []
          },
          "execution_count": 23
        }
      ]
    },
    {
      "cell_type": "code",
      "metadata": {
        "id": "M8iR_wqzJdB-",
        "outputId": "758cd98a-be13-41bd-d801-be93d684b7ef",
        "colab": {
          "base_uri": "https://localhost:8080/"
        }
      },
      "source": [
        "trainX.shape"
      ],
      "execution_count": null,
      "outputs": [
        {
          "output_type": "execute_result",
          "data": {
            "text/plain": [
              "(96, 3)"
            ]
          },
          "metadata": {
            "tags": []
          },
          "execution_count": 24
        }
      ]
    },
    {
      "cell_type": "markdown",
      "metadata": {
        "id": "6FpbZjPlJdCA"
      },
      "source": [
        "When using the window method, we have as many features as the lag value for each prediction"
      ]
    },
    {
      "cell_type": "code",
      "metadata": {
        "scrolled": true,
        "id": "YIkmT46AJdCA",
        "outputId": "a5cebba6-34f1-4618-fa79-db0c05f78e1e",
        "colab": {
          "base_uri": "https://localhost:8080/"
        }
      },
      "source": [
        "# reshape input to be [n. of samples, time steps, n. of features]\n",
        "trainX = np.reshape(trainX, (trainX.shape[0], 1, trainX.shape[1]))\n",
        "testX = np.reshape(testX, (testX.shape[0], 1, testX.shape[1]))\n",
        "trainX"
      ],
      "execution_count": null,
      "outputs": [
        {
          "output_type": "execute_result",
          "data": {
            "text/plain": [
              "array([[[0.01544401, 0.02702703, 0.05405405]],\n",
              "\n",
              "       [[0.02702703, 0.05405405, 0.04826255]],\n",
              "\n",
              "       [[0.05405405, 0.04826255, 0.03281853]],\n",
              "\n",
              "       [[0.04826255, 0.03281853, 0.05984557]],\n",
              "\n",
              "       [[0.03281853, 0.05984557, 0.08494207]],\n",
              "\n",
              "       [[0.05984557, 0.08494207, 0.08494207]],\n",
              "\n",
              "       [[0.08494207, 0.08494207, 0.06177607]],\n",
              "\n",
              "       [[0.08494207, 0.06177607, 0.02895753]],\n",
              "\n",
              "       [[0.06177607, 0.02895753, 0.        ]],\n",
              "\n",
              "       [[0.02895753, 0.        , 0.02702703]],\n",
              "\n",
              "       [[0.        , 0.02702703, 0.02123553]],\n",
              "\n",
              "       [[0.02702703, 0.02123553, 0.04247104]],\n",
              "\n",
              "       [[0.02123553, 0.04247104, 0.07142857]],\n",
              "\n",
              "       [[0.04247104, 0.07142857, 0.05984557]],\n",
              "\n",
              "       [[0.07142857, 0.05984557, 0.04054055]],\n",
              "\n",
              "       [[0.05984557, 0.04054055, 0.08687258]],\n",
              "\n",
              "       [[0.04054055, 0.08687258, 0.12741312]],\n",
              "\n",
              "       [[0.08687258, 0.12741312, 0.12741312]],\n",
              "\n",
              "       [[0.12741312, 0.12741312, 0.10424709]],\n",
              "\n",
              "       [[0.12741312, 0.10424709, 0.05598456]],\n",
              "\n",
              "       [[0.10424709, 0.05598456, 0.01930502]],\n",
              "\n",
              "       [[0.05598456, 0.01930502, 0.06949806]],\n",
              "\n",
              "       [[0.01930502, 0.06949806, 0.07915059]],\n",
              "\n",
              "       [[0.06949806, 0.07915059, 0.08880308]],\n",
              "\n",
              "       [[0.07915059, 0.08880308, 0.14285713]],\n",
              "\n",
              "       [[0.08880308, 0.14285713, 0.11389962]],\n",
              "\n",
              "       [[0.14285713, 0.11389962, 0.13127413]],\n",
              "\n",
              "       [[0.11389962, 0.13127413, 0.14285713]],\n",
              "\n",
              "       [[0.13127413, 0.14285713, 0.18339768]],\n",
              "\n",
              "       [[0.14285713, 0.18339768, 0.18339768]],\n",
              "\n",
              "       [[0.18339768, 0.18339768, 0.15444016]],\n",
              "\n",
              "       [[0.18339768, 0.15444016, 0.11196911]],\n",
              "\n",
              "       [[0.15444016, 0.11196911, 0.08108109]],\n",
              "\n",
              "       [[0.11196911, 0.08108109, 0.1196911 ]],\n",
              "\n",
              "       [[0.08108109, 0.1196911 , 0.12934363]],\n",
              "\n",
              "       [[0.1196911 , 0.12934363, 0.14671814]],\n",
              "\n",
              "       [[0.12934363, 0.14671814, 0.17181468]],\n",
              "\n",
              "       [[0.14671814, 0.17181468, 0.14864865]],\n",
              "\n",
              "       [[0.17181468, 0.14864865, 0.15250966]],\n",
              "\n",
              "       [[0.14864865, 0.15250966, 0.22007722]],\n",
              "\n",
              "       [[0.15250966, 0.22007722, 0.24324325]],\n",
              "\n",
              "       [[0.22007722, 0.24324325, 0.26640925]],\n",
              "\n",
              "       [[0.24324325, 0.26640925, 0.2027027 ]],\n",
              "\n",
              "       [[0.26640925, 0.2027027 , 0.16795367]],\n",
              "\n",
              "       [[0.2027027 , 0.16795367, 0.13127413]],\n",
              "\n",
              "       [[0.16795367, 0.13127413, 0.17374519]],\n",
              "\n",
              "       [[0.13127413, 0.17374519, 0.17760617]],\n",
              "\n",
              "       [[0.17374519, 0.17760617, 0.17760617]],\n",
              "\n",
              "       [[0.17760617, 0.17760617, 0.25482625]],\n",
              "\n",
              "       [[0.17760617, 0.25482625, 0.25289574]],\n",
              "\n",
              "       [[0.25482625, 0.25289574, 0.24131274]],\n",
              "\n",
              "       [[0.25289574, 0.24131274, 0.26833975]],\n",
              "\n",
              "       [[0.24131274, 0.26833975, 0.3088803 ]],\n",
              "\n",
              "       [[0.26833975, 0.3088803 , 0.32432434]],\n",
              "\n",
              "       [[0.3088803 , 0.32432434, 0.25675675]],\n",
              "\n",
              "       [[0.32432434, 0.25675675, 0.20656371]],\n",
              "\n",
              "       [[0.25675675, 0.20656371, 0.14671814]],\n",
              "\n",
              "       [[0.20656371, 0.14671814, 0.18725869]],\n",
              "\n",
              "       [[0.14671814, 0.18725869, 0.19305018]],\n",
              "\n",
              "       [[0.18725869, 0.19305018, 0.16216215]],\n",
              "\n",
              "       [[0.19305018, 0.16216215, 0.25289574]],\n",
              "\n",
              "       [[0.16216215, 0.25289574, 0.23745173]],\n",
              "\n",
              "       [[0.25289574, 0.23745173, 0.25096524]],\n",
              "\n",
              "       [[0.23745173, 0.25096524, 0.3088803 ]],\n",
              "\n",
              "       [[0.25096524, 0.3088803 , 0.38223937]],\n",
              "\n",
              "       [[0.3088803 , 0.38223937, 0.36486486]],\n",
              "\n",
              "       [[0.38223937, 0.36486486, 0.2992278 ]],\n",
              "\n",
              "       [[0.36486486, 0.2992278 , 0.24131274]],\n",
              "\n",
              "       [[0.2992278 , 0.24131274, 0.1911197 ]],\n",
              "\n",
              "       [[0.24131274, 0.1911197 , 0.24131274]],\n",
              "\n",
              "       [[0.1911197 , 0.24131274, 0.26640925]],\n",
              "\n",
              "       [[0.24131274, 0.26640925, 0.24903473]],\n",
              "\n",
              "       [[0.26640925, 0.24903473, 0.31467178]],\n",
              "\n",
              "       [[0.24903473, 0.31467178, 0.3185328 ]],\n",
              "\n",
              "       [[0.31467178, 0.3185328 , 0.32046333]],\n",
              "\n",
              "       [[0.3185328 , 0.32046333, 0.4073359 ]],\n",
              "\n",
              "       [[0.32046333, 0.4073359 , 0.5019305 ]],\n",
              "\n",
              "       [[0.4073359 , 0.5019305 , 0.46911195]],\n",
              "\n",
              "       [[0.5019305 , 0.46911195, 0.40154442]],\n",
              "\n",
              "       [[0.46911195, 0.40154442, 0.32818535]],\n",
              "\n",
              "       [[0.40154442, 0.32818535, 0.25675675]],\n",
              "\n",
              "       [[0.32818535, 0.25675675, 0.3359073 ]],\n",
              "\n",
              "       [[0.25675675, 0.3359073 , 0.34749034]],\n",
              "\n",
              "       [[0.3359073 , 0.34749034, 0.33397684]],\n",
              "\n",
              "       [[0.34749034, 0.33397684, 0.41119692]],\n",
              "\n",
              "       [[0.33397684, 0.41119692, 0.4034749 ]],\n",
              "\n",
              "       [[0.41119692, 0.4034749 , 0.4131274 ]],\n",
              "\n",
              "       [[0.4034749 , 0.4131274 , 0.52123547]],\n",
              "\n",
              "       [[0.4131274 , 0.52123547, 0.5965251 ]],\n",
              "\n",
              "       [[0.52123547, 0.5965251 , 0.58108103]],\n",
              "\n",
              "       [[0.5965251 , 0.58108103, 0.484556  ]],\n",
              "\n",
              "       [[0.58108103, 0.484556  , 0.3899614 ]],\n",
              "\n",
              "       [[0.484556  , 0.3899614 , 0.3223938 ]],\n",
              "\n",
              "       [[0.3899614 , 0.3223938 , 0.3899614 ]],\n",
              "\n",
              "       [[0.3223938 , 0.3899614 , 0.4073359 ]],\n",
              "\n",
              "       [[0.3899614 , 0.4073359 , 0.3803089 ]]], dtype=float32)"
            ]
          },
          "metadata": {
            "tags": []
          },
          "execution_count": 25
        }
      ]
    },
    {
      "cell_type": "code",
      "metadata": {
        "id": "Y7zPVKMmJdCC",
        "outputId": "17b970f5-709a-4b79-b75e-492611ef50ed",
        "colab": {
          "base_uri": "https://localhost:8080/"
        }
      },
      "source": [
        "trainX.shape"
      ],
      "execution_count": null,
      "outputs": [
        {
          "output_type": "execute_result",
          "data": {
            "text/plain": [
              "(96, 1, 3)"
            ]
          },
          "metadata": {
            "tags": []
          },
          "execution_count": 26
        }
      ]
    },
    {
      "cell_type": "code",
      "metadata": {
        "scrolled": true,
        "id": "XcYCmiMwJdCE"
      },
      "source": [
        "# create and fit the LSTM network\n",
        "model = Sequential()\n",
        "model.add(LSTM(4, input_shape=(1, LAG)))\n",
        "model.add(Dense(1))\n",
        "model.compile(loss='mean_squared_error', optimizer='adam')"
      ],
      "execution_count": null,
      "outputs": []
    },
    {
      "cell_type": "code",
      "metadata": {
        "scrolled": true,
        "id": "AVb5vkOLJdCF",
        "outputId": "997a4723-9d68-4e5f-f49c-aa8c49b35257",
        "colab": {
          "base_uri": "https://localhost:8080/"
        }
      },
      "source": [
        "# train the network\n",
        "model.fit(trainX, trainY, epochs=100, batch_size=1, verbose=1)"
      ],
      "execution_count": null,
      "outputs": [
        {
          "output_type": "stream",
          "text": [
            "Epoch 1/100\n",
            "96/96 [==============================] - 0s 1ms/step - loss: 0.0534\n",
            "Epoch 2/100\n",
            "96/96 [==============================] - 0s 1ms/step - loss: 0.0185\n",
            "Epoch 3/100\n",
            "96/96 [==============================] - 0s 1ms/step - loss: 0.0122\n",
            "Epoch 4/100\n",
            "96/96 [==============================] - 0s 1ms/step - loss: 0.0102\n",
            "Epoch 5/100\n",
            "96/96 [==============================] - 0s 1ms/step - loss: 0.0085\n",
            "Epoch 6/100\n",
            "96/96 [==============================] - 0s 1ms/step - loss: 0.0071\n",
            "Epoch 7/100\n",
            "96/96 [==============================] - 0s 1ms/step - loss: 0.0060\n",
            "Epoch 8/100\n",
            "96/96 [==============================] - 0s 1ms/step - loss: 0.0051\n",
            "Epoch 9/100\n",
            "96/96 [==============================] - 0s 1ms/step - loss: 0.0045\n",
            "Epoch 10/100\n",
            "96/96 [==============================] - 0s 1ms/step - loss: 0.0040\n",
            "Epoch 11/100\n",
            "96/96 [==============================] - 0s 1ms/step - loss: 0.0038\n",
            "Epoch 12/100\n",
            "96/96 [==============================] - 0s 1ms/step - loss: 0.0035\n",
            "Epoch 13/100\n",
            "96/96 [==============================] - 0s 1ms/step - loss: 0.0034\n",
            "Epoch 14/100\n",
            "96/96 [==============================] - 0s 1ms/step - loss: 0.0033\n",
            "Epoch 15/100\n",
            "96/96 [==============================] - 0s 1ms/step - loss: 0.0032\n",
            "Epoch 16/100\n",
            "96/96 [==============================] - 0s 1ms/step - loss: 0.0033\n",
            "Epoch 17/100\n",
            "96/96 [==============================] - 0s 1ms/step - loss: 0.0032\n",
            "Epoch 18/100\n",
            "96/96 [==============================] - 0s 1ms/step - loss: 0.0031\n",
            "Epoch 19/100\n",
            "96/96 [==============================] - 0s 1ms/step - loss: 0.0032\n",
            "Epoch 20/100\n",
            "96/96 [==============================] - 0s 1ms/step - loss: 0.0033\n",
            "Epoch 21/100\n",
            "96/96 [==============================] - 0s 1ms/step - loss: 0.0032\n",
            "Epoch 22/100\n",
            "96/96 [==============================] - 0s 1ms/step - loss: 0.0032\n",
            "Epoch 23/100\n",
            "96/96 [==============================] - 0s 1ms/step - loss: 0.0031\n",
            "Epoch 24/100\n",
            "96/96 [==============================] - 0s 1ms/step - loss: 0.0031\n",
            "Epoch 25/100\n",
            "96/96 [==============================] - 0s 1ms/step - loss: 0.0031\n",
            "Epoch 26/100\n",
            "96/96 [==============================] - 0s 1ms/step - loss: 0.0031\n",
            "Epoch 27/100\n",
            "96/96 [==============================] - 0s 1ms/step - loss: 0.0030\n",
            "Epoch 28/100\n",
            "96/96 [==============================] - 0s 1ms/step - loss: 0.0030\n",
            "Epoch 29/100\n",
            "96/96 [==============================] - 0s 1ms/step - loss: 0.0029\n",
            "Epoch 30/100\n",
            "96/96 [==============================] - 0s 1ms/step - loss: 0.0029\n",
            "Epoch 31/100\n",
            "96/96 [==============================] - 0s 1ms/step - loss: 0.0030\n",
            "Epoch 32/100\n",
            "96/96 [==============================] - 0s 1ms/step - loss: 0.0029\n",
            "Epoch 33/100\n",
            "96/96 [==============================] - 0s 1ms/step - loss: 0.0030\n",
            "Epoch 34/100\n",
            "96/96 [==============================] - 0s 1ms/step - loss: 0.0028\n",
            "Epoch 35/100\n",
            "96/96 [==============================] - 0s 1ms/step - loss: 0.0029\n",
            "Epoch 36/100\n",
            "96/96 [==============================] - 0s 1ms/step - loss: 0.0029\n",
            "Epoch 37/100\n",
            "96/96 [==============================] - 0s 1ms/step - loss: 0.0029\n",
            "Epoch 38/100\n",
            "96/96 [==============================] - 0s 1ms/step - loss: 0.0028\n",
            "Epoch 39/100\n",
            "96/96 [==============================] - 0s 1ms/step - loss: 0.0028\n",
            "Epoch 40/100\n",
            "96/96 [==============================] - 0s 1ms/step - loss: 0.0029\n",
            "Epoch 41/100\n",
            "96/96 [==============================] - 0s 1ms/step - loss: 0.0028\n",
            "Epoch 42/100\n",
            "96/96 [==============================] - 0s 1ms/step - loss: 0.0028\n",
            "Epoch 43/100\n",
            "96/96 [==============================] - 0s 1ms/step - loss: 0.0028\n",
            "Epoch 44/100\n",
            "96/96 [==============================] - 0s 1ms/step - loss: 0.0028\n",
            "Epoch 45/100\n",
            "96/96 [==============================] - 0s 1ms/step - loss: 0.0028\n",
            "Epoch 46/100\n",
            "96/96 [==============================] - 0s 1ms/step - loss: 0.0027\n",
            "Epoch 47/100\n",
            "96/96 [==============================] - 0s 1ms/step - loss: 0.0027\n",
            "Epoch 48/100\n",
            "96/96 [==============================] - 0s 1ms/step - loss: 0.0028\n",
            "Epoch 49/100\n",
            "96/96 [==============================] - 0s 1ms/step - loss: 0.0027\n",
            "Epoch 50/100\n",
            "96/96 [==============================] - 0s 1ms/step - loss: 0.0027\n",
            "Epoch 51/100\n",
            "96/96 [==============================] - 0s 1ms/step - loss: 0.0027\n",
            "Epoch 52/100\n",
            "96/96 [==============================] - 0s 1ms/step - loss: 0.0027\n",
            "Epoch 53/100\n",
            "96/96 [==============================] - 0s 1ms/step - loss: 0.0026\n",
            "Epoch 54/100\n",
            "96/96 [==============================] - 0s 1ms/step - loss: 0.0027\n",
            "Epoch 55/100\n",
            "96/96 [==============================] - 0s 1ms/step - loss: 0.0026\n",
            "Epoch 56/100\n",
            "96/96 [==============================] - 0s 1ms/step - loss: 0.0026\n",
            "Epoch 57/100\n",
            "96/96 [==============================] - 0s 2ms/step - loss: 0.0026\n",
            "Epoch 58/100\n",
            "96/96 [==============================] - 0s 1ms/step - loss: 0.0027\n",
            "Epoch 59/100\n",
            "96/96 [==============================] - 0s 1ms/step - loss: 0.0025\n",
            "Epoch 60/100\n",
            "96/96 [==============================] - 0s 1ms/step - loss: 0.0026\n",
            "Epoch 61/100\n",
            "96/96 [==============================] - 0s 1ms/step - loss: 0.0026\n",
            "Epoch 62/100\n",
            "96/96 [==============================] - 0s 1ms/step - loss: 0.0026\n",
            "Epoch 63/100\n",
            "96/96 [==============================] - 0s 1ms/step - loss: 0.0024\n",
            "Epoch 64/100\n",
            "96/96 [==============================] - 0s 1ms/step - loss: 0.0025\n",
            "Epoch 65/100\n",
            "96/96 [==============================] - 0s 1ms/step - loss: 0.0025\n",
            "Epoch 66/100\n",
            "96/96 [==============================] - 0s 2ms/step - loss: 0.0025\n",
            "Epoch 67/100\n",
            "96/96 [==============================] - 0s 1ms/step - loss: 0.0026\n",
            "Epoch 68/100\n",
            "96/96 [==============================] - 0s 1ms/step - loss: 0.0025\n",
            "Epoch 69/100\n",
            "96/96 [==============================] - 0s 1ms/step - loss: 0.0025\n",
            "Epoch 70/100\n",
            "96/96 [==============================] - 0s 1ms/step - loss: 0.0025\n",
            "Epoch 71/100\n",
            "96/96 [==============================] - 0s 1ms/step - loss: 0.0025\n",
            "Epoch 72/100\n",
            "96/96 [==============================] - 0s 1ms/step - loss: 0.0024\n",
            "Epoch 73/100\n",
            "96/96 [==============================] - 0s 1ms/step - loss: 0.0024\n",
            "Epoch 74/100\n",
            "96/96 [==============================] - 0s 1ms/step - loss: 0.0026\n",
            "Epoch 75/100\n",
            "96/96 [==============================] - 0s 2ms/step - loss: 0.0024\n",
            "Epoch 76/100\n",
            "96/96 [==============================] - 0s 1ms/step - loss: 0.0026\n",
            "Epoch 77/100\n",
            "96/96 [==============================] - 0s 1ms/step - loss: 0.0024\n",
            "Epoch 78/100\n",
            "96/96 [==============================] - 0s 1ms/step - loss: 0.0026\n",
            "Epoch 79/100\n",
            "96/96 [==============================] - 0s 1ms/step - loss: 0.0025\n",
            "Epoch 80/100\n",
            "96/96 [==============================] - 0s 1ms/step - loss: 0.0023\n",
            "Epoch 81/100\n",
            "96/96 [==============================] - 0s 1ms/step - loss: 0.0025\n",
            "Epoch 82/100\n",
            "96/96 [==============================] - 0s 1ms/step - loss: 0.0024\n",
            "Epoch 83/100\n",
            "96/96 [==============================] - 0s 1ms/step - loss: 0.0023\n",
            "Epoch 84/100\n",
            "96/96 [==============================] - 0s 1ms/step - loss: 0.0025\n",
            "Epoch 85/100\n",
            "96/96 [==============================] - 0s 1ms/step - loss: 0.0023\n",
            "Epoch 86/100\n",
            "96/96 [==============================] - 0s 1ms/step - loss: 0.0023\n",
            "Epoch 87/100\n",
            "96/96 [==============================] - 0s 1ms/step - loss: 0.0023\n",
            "Epoch 88/100\n",
            "96/96 [==============================] - 0s 1ms/step - loss: 0.0024\n",
            "Epoch 89/100\n",
            "96/96 [==============================] - 0s 2ms/step - loss: 0.0022\n",
            "Epoch 90/100\n",
            "96/96 [==============================] - 0s 1ms/step - loss: 0.0023\n",
            "Epoch 91/100\n",
            "96/96 [==============================] - 0s 1ms/step - loss: 0.0023\n",
            "Epoch 92/100\n",
            "96/96 [==============================] - 0s 1ms/step - loss: 0.0023\n",
            "Epoch 93/100\n",
            "96/96 [==============================] - 0s 1ms/step - loss: 0.0023\n",
            "Epoch 94/100\n",
            "96/96 [==============================] - 0s 1ms/step - loss: 0.0023\n",
            "Epoch 95/100\n",
            "96/96 [==============================] - 0s 1ms/step - loss: 0.0023\n",
            "Epoch 96/100\n",
            "96/96 [==============================] - 0s 1ms/step - loss: 0.0023\n",
            "Epoch 97/100\n",
            "96/96 [==============================] - 0s 1ms/step - loss: 0.0025\n",
            "Epoch 98/100\n",
            "96/96 [==============================] - 0s 1ms/step - loss: 0.0023\n",
            "Epoch 99/100\n",
            "96/96 [==============================] - 0s 1ms/step - loss: 0.0022\n",
            "Epoch 100/100\n",
            "96/96 [==============================] - 0s 1ms/step - loss: 0.0024\n"
          ],
          "name": "stdout"
        },
        {
          "output_type": "execute_result",
          "data": {
            "text/plain": [
              "<tensorflow.python.keras.callbacks.History at 0x7f15bd2b6fd0>"
            ]
          },
          "metadata": {
            "tags": []
          },
          "execution_count": 28
        }
      ]
    },
    {
      "cell_type": "code",
      "metadata": {
        "scrolled": true,
        "id": "hsjsHqMrJdCH"
      },
      "source": [
        "# make predictions\n",
        "trainPredict = model.predict(trainX)\n",
        "testPredict = model.predict(testX)"
      ],
      "execution_count": null,
      "outputs": []
    },
    {
      "cell_type": "code",
      "metadata": {
        "scrolled": true,
        "id": "8e6JDaA-JdCJ"
      },
      "source": [
        "# de-normalize predictions\n",
        "trainPredict = scaler.inverse_transform(trainPredict)\n",
        "trainY = scaler.inverse_transform([trainY])\n",
        "testPredict = scaler.inverse_transform(testPredict)\n",
        "testY = scaler.inverse_transform([testY])"
      ],
      "execution_count": null,
      "outputs": []
    },
    {
      "cell_type": "code",
      "metadata": {
        "id": "5_9057pYJdCL",
        "outputId": "502ed8a0-2023-4714-bb36-d9a1fb231c93",
        "colab": {
          "base_uri": "https://localhost:8080/"
        }
      },
      "source": [
        "# calculate root mean squared error and coefficient of determination\n",
        "trainScore = math.sqrt(mean_squared_error(trainY[0], trainPredict[:,0]))\n",
        "r2trainScore=r2_score(trainY[0], trainPredict[:,0])\n",
        "print('Train Score: RMSE = %.2f, R2 = %2f' % (trainScore, r2trainScore))\n",
        "testScore = math.sqrt(mean_squared_error(testY[0], testPredict[:,0]))\n",
        "r2testScore=r2_score(testY[0], testPredict[:,0])\n",
        "print('Test Score: RMSE = %.2f, R2 = %.2f' % (testScore, r2testScore))"
      ],
      "execution_count": null,
      "outputs": [
        {
          "output_type": "stream",
          "text": [
            "Train Score: RMSE = 23.93, R2 = 0.889949\n",
            "Test Score: RMSE = 48.40, R2 = 0.63\n"
          ],
          "name": "stdout"
        }
      ]
    },
    {
      "cell_type": "markdown",
      "metadata": {
        "id": "p-kr4YheJdCM"
      },
      "source": [
        "The score is slightly better on the test set. More tuning is required."
      ]
    },
    {
      "cell_type": "code",
      "metadata": {
        "id": "vfAq0DJJJdCM",
        "outputId": "fd71b284-19d3-42f6-c5c2-88e439a11d7e",
        "colab": {
          "base_uri": "https://localhost:8080/",
          "height": 320
        }
      },
      "source": [
        "# shift train predictions for plotting\n",
        "trainPredictPlot = np.empty_like(dataset)\n",
        "trainPredictPlot[:, :] = np.nan\n",
        "trainPredictPlot[LAG:len(trainPredict)+LAG, :] = trainPredict\n",
        "# shift test predictions for plotting\n",
        "testPredictPlot = np.empty_like(dataset)\n",
        "testPredictPlot[:, :] = np.nan\n",
        "testPredictPlot[len(trainPredict)+(LAG*2)+1:len(dataset)-1, :] = testPredict\n",
        "# plot baseline and predictions\n",
        "plt.figure(figsize=(8,5))\n",
        "plt.plot(scaler.inverse_transform(dataset))\n",
        "plt.plot(trainPredictPlot)\n",
        "plt.plot(testPredictPlot)\n",
        "plt.show()"
      ],
      "execution_count": null,
      "outputs": [
        {
          "output_type": "display_data",
          "data": {
            "image/png": "[encoded data removed]",
            "text/plain": [
              "<Figure size 576x360 with 1 Axes>"
            ]
          },
          "metadata": {
            "tags": [],
            "needs_background": "light"
          }
        }
      ]
    },
    {
      "cell_type": "markdown",
      "metadata": {
        "id": "mEt-rrozJdCO"
      },
      "source": [
        "### Using a window of past time steps\n",
        "The window we are using contains past time steps of the one feature we are trying to predict. Hence, the network input really needs only 1 feature but as many time steps as the lag value. We can represent this by reshaping our input arrays with numpy. The samples remain the number of rows of our input array, but the number of columns now represents the time steps for each sample and the feature number is 1."
      ]
    },
    {
      "cell_type": "code",
      "metadata": {
        "id": "w1hQoZRrJdCO"
      },
      "source": [
        "trainX, trainY = create_xy(train, 0, LAG)\n",
        "testX, testY = create_xy(test, 0, LAG)\n",
        "# reshape input to be [samples, time steps, features]\n",
        "trainX = np.reshape(trainX, (trainX.shape[0], trainX.shape[1], 1))\n",
        "testX = np.reshape(testX, (testX.shape[0], testX.shape[1], 1))"
      ],
      "execution_count": null,
      "outputs": []
    },
    {
      "cell_type": "code",
      "metadata": {
        "id": "yJGiUO6OJdCQ"
      },
      "source": [
        "# create and fit the LSTM network\n",
        "model = Sequential()\n",
        "model.add(LSTM(4, input_shape=(LAG, 1))) # we swapped the dimension in our input arrays, so we swap in the input specification as well\n",
        "model.add(Dense(1))\n",
        "model.compile(loss='mean_squared_error', optimizer='adam')"
      ],
      "execution_count": null,
      "outputs": []
    },
    {
      "cell_type": "code",
      "metadata": {
        "id": "_IfxRUp7JdCS",
        "outputId": "0aa35ac8-1a3d-4b6e-a8e8-cec1ca3a1f88",
        "colab": {
          "base_uri": "https://localhost:8080/"
        }
      },
      "source": [
        "# train the model\n",
        "model.fit(trainX, trainY, epochs=100, batch_size=1, verbose=1)"
      ],
      "execution_count": null,
      "outputs": [
        {
          "output_type": "stream",
          "text": [
            "Epoch 1/100\n",
            "96/96 [==============================] - 0s 2ms/step - loss: 0.0236\n",
            "Epoch 2/100\n",
            "96/96 [==============================] - 0s 2ms/step - loss: 0.0085\n",
            "Epoch 3/100\n",
            "96/96 [==============================] - 0s 2ms/step - loss: 0.0071\n",
            "Epoch 4/100\n",
            "96/96 [==============================] - 0s 1ms/step - loss: 0.0060\n",
            "Epoch 5/100\n",
            "96/96 [==============================] - 0s 1ms/step - loss: 0.0052\n",
            "Epoch 6/100\n",
            "96/96 [==============================] - 0s 2ms/step - loss: 0.0046\n",
            "Epoch 7/100\n",
            "96/96 [==============================] - 0s 2ms/step - loss: 0.0043\n",
            "Epoch 8/100\n",
            "96/96 [==============================] - 0s 2ms/step - loss: 0.0041\n",
            "Epoch 9/100\n",
            "96/96 [==============================] - 0s 2ms/step - loss: 0.0039\n",
            "Epoch 10/100\n",
            "96/96 [==============================] - 0s 2ms/step - loss: 0.0039\n",
            "Epoch 11/100\n",
            "96/96 [==============================] - 0s 2ms/step - loss: 0.0039\n",
            "Epoch 12/100\n",
            "96/96 [==============================] - 0s 2ms/step - loss: 0.0038\n",
            "Epoch 13/100\n",
            "96/96 [==============================] - 0s 2ms/step - loss: 0.0037\n",
            "Epoch 14/100\n",
            "96/96 [==============================] - 0s 1ms/step - loss: 0.0038\n",
            "Epoch 15/100\n",
            "96/96 [==============================] - 0s 2ms/step - loss: 0.0037\n",
            "Epoch 16/100\n",
            "96/96 [==============================] - 0s 2ms/step - loss: 0.0038\n",
            "Epoch 17/100\n",
            "96/96 [==============================] - 0s 1ms/step - loss: 0.0038\n",
            "Epoch 18/100\n",
            "96/96 [==============================] - 0s 2ms/step - loss: 0.0036\n",
            "Epoch 19/100\n",
            "96/96 [==============================] - 0s 2ms/step - loss: 0.0037\n",
            "Epoch 20/100\n",
            "96/96 [==============================] - 0s 2ms/step - loss: 0.0038\n",
            "Epoch 21/100\n",
            "96/96 [==============================] - 0s 1ms/step - loss: 0.0037\n",
            "Epoch 22/100\n",
            "96/96 [==============================] - 0s 1ms/step - loss: 0.0037\n",
            "Epoch 23/100\n",
            "96/96 [==============================] - 0s 1ms/step - loss: 0.0036\n",
            "Epoch 24/100\n",
            "96/96 [==============================] - 0s 1ms/step - loss: 0.0037\n",
            "Epoch 25/100\n",
            "96/96 [==============================] - 0s 2ms/step - loss: 0.0037\n",
            "Epoch 26/100\n",
            "96/96 [==============================] - 0s 1ms/step - loss: 0.0037\n",
            "Epoch 27/100\n",
            "96/96 [==============================] - 0s 1ms/step - loss: 0.0037\n",
            "Epoch 28/100\n",
            "96/96 [==============================] - 0s 1ms/step - loss: 0.0037\n",
            "Epoch 29/100\n",
            "96/96 [==============================] - 0s 1ms/step - loss: 0.0035\n",
            "Epoch 30/100\n",
            "96/96 [==============================] - 0s 1ms/step - loss: 0.0035\n",
            "Epoch 31/100\n",
            "96/96 [==============================] - 0s 2ms/step - loss: 0.0035\n",
            "Epoch 32/100\n",
            "96/96 [==============================] - 0s 2ms/step - loss: 0.0035\n",
            "Epoch 33/100\n",
            "96/96 [==============================] - 0s 2ms/step - loss: 0.0036\n",
            "Epoch 34/100\n",
            "96/96 [==============================] - 0s 1ms/step - loss: 0.0034\n",
            "Epoch 35/100\n",
            "96/96 [==============================] - 0s 1ms/step - loss: 0.0035\n",
            "Epoch 36/100\n",
            "96/96 [==============================] - 0s 2ms/step - loss: 0.0036\n",
            "Epoch 37/100\n",
            "96/96 [==============================] - 0s 2ms/step - loss: 0.0036\n",
            "Epoch 38/100\n",
            "96/96 [==============================] - 0s 1ms/step - loss: 0.0035\n",
            "Epoch 39/100\n",
            "96/96 [==============================] - 0s 2ms/step - loss: 0.0034\n",
            "Epoch 40/100\n",
            "96/96 [==============================] - 0s 2ms/step - loss: 0.0036\n",
            "Epoch 41/100\n",
            "96/96 [==============================] - 0s 1ms/step - loss: 0.0035\n",
            "Epoch 42/100\n",
            "96/96 [==============================] - 0s 2ms/step - loss: 0.0035\n",
            "Epoch 43/100\n",
            "96/96 [==============================] - 0s 1ms/step - loss: 0.0034\n",
            "Epoch 44/100\n",
            "96/96 [==============================] - 0s 2ms/step - loss: 0.0034\n",
            "Epoch 45/100\n",
            "96/96 [==============================] - 0s 2ms/step - loss: 0.0034\n",
            "Epoch 46/100\n",
            "96/96 [==============================] - 0s 2ms/step - loss: 0.0033\n",
            "Epoch 47/100\n",
            "96/96 [==============================] - 0s 1ms/step - loss: 0.0033\n",
            "Epoch 48/100\n",
            "96/96 [==============================] - 0s 1ms/step - loss: 0.0033\n",
            "Epoch 49/100\n",
            "96/96 [==============================] - 0s 1ms/step - loss: 0.0032\n",
            "Epoch 50/100\n",
            "96/96 [==============================] - 0s 1ms/step - loss: 0.0033\n",
            "Epoch 51/100\n",
            "96/96 [==============================] - 0s 2ms/step - loss: 0.0033\n",
            "Epoch 52/100\n",
            "96/96 [==============================] - 0s 1ms/step - loss: 0.0033\n",
            "Epoch 53/100\n",
            "96/96 [==============================] - 0s 2ms/step - loss: 0.0032\n",
            "Epoch 54/100\n",
            "96/96 [==============================] - 0s 1ms/step - loss: 0.0033\n",
            "Epoch 55/100\n",
            "96/96 [==============================] - 0s 2ms/step - loss: 0.0032\n",
            "Epoch 56/100\n",
            "96/96 [==============================] - 0s 1ms/step - loss: 0.0032\n",
            "Epoch 57/100\n",
            "96/96 [==============================] - 0s 2ms/step - loss: 0.0032\n",
            "Epoch 58/100\n",
            "96/96 [==============================] - 0s 2ms/step - loss: 0.0033\n",
            "Epoch 59/100\n",
            "96/96 [==============================] - 0s 2ms/step - loss: 0.0031\n",
            "Epoch 60/100\n",
            "96/96 [==============================] - 0s 2ms/step - loss: 0.0032\n",
            "Epoch 61/100\n",
            "96/96 [==============================] - 0s 2ms/step - loss: 0.0031\n",
            "Epoch 62/100\n",
            "96/96 [==============================] - 0s 2ms/step - loss: 0.0032\n",
            "Epoch 63/100\n",
            "96/96 [==============================] - 0s 2ms/step - loss: 0.0029\n",
            "Epoch 64/100\n",
            "96/96 [==============================] - 0s 2ms/step - loss: 0.0030\n",
            "Epoch 65/100\n",
            "96/96 [==============================] - 0s 1ms/step - loss: 0.0030\n",
            "Epoch 66/100\n",
            "96/96 [==============================] - 0s 1ms/step - loss: 0.0030\n",
            "Epoch 67/100\n",
            "96/96 [==============================] - 0s 2ms/step - loss: 0.0032\n",
            "Epoch 68/100\n",
            "96/96 [==============================] - 0s 1ms/step - loss: 0.0030\n",
            "Epoch 69/100\n",
            "96/96 [==============================] - 0s 1ms/step - loss: 0.0030\n",
            "Epoch 70/100\n",
            "96/96 [==============================] - 0s 2ms/step - loss: 0.0029\n",
            "Epoch 71/100\n",
            "96/96 [==============================] - 0s 2ms/step - loss: 0.0030\n",
            "Epoch 72/100\n",
            "96/96 [==============================] - 0s 2ms/step - loss: 0.0028\n",
            "Epoch 73/100\n",
            "96/96 [==============================] - 0s 1ms/step - loss: 0.0029\n",
            "Epoch 74/100\n",
            "96/96 [==============================] - 0s 1ms/step - loss: 0.0029\n",
            "Epoch 75/100\n",
            "96/96 [==============================] - 0s 2ms/step - loss: 0.0027\n",
            "Epoch 76/100\n",
            "96/96 [==============================] - 0s 2ms/step - loss: 0.0029\n",
            "Epoch 77/100\n",
            "96/96 [==============================] - 0s 1ms/step - loss: 0.0028\n",
            "Epoch 78/100\n",
            "96/96 [==============================] - 0s 1ms/step - loss: 0.0029\n",
            "Epoch 79/100\n",
            "96/96 [==============================] - 0s 2ms/step - loss: 0.0027\n",
            "Epoch 80/100\n",
            "96/96 [==============================] - 0s 1ms/step - loss: 0.0027\n",
            "Epoch 81/100\n",
            "96/96 [==============================] - 0s 1ms/step - loss: 0.0029\n",
            "Epoch 82/100\n",
            "96/96 [==============================] - 0s 1ms/step - loss: 0.0027\n",
            "Epoch 83/100\n",
            "96/96 [==============================] - 0s 2ms/step - loss: 0.0026\n",
            "Epoch 84/100\n",
            "96/96 [==============================] - 0s 1ms/step - loss: 0.0029\n",
            "Epoch 85/100\n",
            "96/96 [==============================] - 0s 2ms/step - loss: 0.0027\n",
            "Epoch 86/100\n",
            "96/96 [==============================] - 0s 2ms/step - loss: 0.0025\n",
            "Epoch 87/100\n",
            "96/96 [==============================] - 0s 2ms/step - loss: 0.0026\n",
            "Epoch 88/100\n",
            "96/96 [==============================] - 0s 1ms/step - loss: 0.0026\n",
            "Epoch 89/100\n",
            "96/96 [==============================] - 0s 1ms/step - loss: 0.0024\n",
            "Epoch 90/100\n",
            "96/96 [==============================] - 0s 2ms/step - loss: 0.0026\n",
            "Epoch 91/100\n",
            "96/96 [==============================] - 0s 1ms/step - loss: 0.0025\n",
            "Epoch 92/100\n",
            "96/96 [==============================] - 0s 2ms/step - loss: 0.0023\n",
            "Epoch 93/100\n",
            "96/96 [==============================] - 0s 1ms/step - loss: 0.0026\n",
            "Epoch 94/100\n",
            "96/96 [==============================] - 0s 2ms/step - loss: 0.0025\n",
            "Epoch 95/100\n",
            "96/96 [==============================] - 0s 1ms/step - loss: 0.0024\n",
            "Epoch 96/100\n",
            "96/96 [==============================] - 0s 2ms/step - loss: 0.0025\n",
            "Epoch 97/100\n",
            "96/96 [==============================] - 0s 2ms/step - loss: 0.0026\n",
            "Epoch 98/100\n",
            "96/96 [==============================] - 0s 1ms/step - loss: 0.0024\n",
            "Epoch 99/100\n",
            "96/96 [==============================] - 0s 1ms/step - loss: 0.0023\n",
            "Epoch 100/100\n",
            "96/96 [==============================] - 0s 2ms/step - loss: 0.0024\n"
          ],
          "name": "stdout"
        },
        {
          "output_type": "execute_result",
          "data": {
            "text/plain": [
              "<tensorflow.python.keras.callbacks.History at 0x7f15bb408860>"
            ]
          },
          "metadata": {
            "tags": []
          },
          "execution_count": 35
        }
      ]
    },
    {
      "cell_type": "code",
      "metadata": {
        "id": "NFLIlcXEJdCT",
        "outputId": "15762a39-411d-4cd6-c1f5-a24814623859",
        "colab": {
          "base_uri": "https://localhost:8080/"
        }
      },
      "source": [
        "# make predictions\n",
        "trainPredict = model.predict(trainX)\n",
        "testPredict = model.predict(testX)\n",
        "# invert predictions\n",
        "trainPredict = scaler.inverse_transform(trainPredict)\n",
        "trainY = scaler.inverse_transform([trainY])\n",
        "testPredict = scaler.inverse_transform(testPredict)\n",
        "testY = scaler.inverse_transform([testY])"
      ],
      "execution_count": null,
      "outputs": [
        {
          "output_type": "stream",
          "text": [
            "WARNING:tensorflow:5 out of the last 15 calls to <function Model.make_predict_function.<locals>.predict_function at 0x7f15bb231378> triggered tf.function retracing. Tracing is expensive and the excessive number of tracings could be due to (1) creating @tf.function repeatedly in a loop, (2) passing tensors with different shapes, (3) passing Python objects instead of tensors. For (1), please define your @tf.function outside of the loop. For (2), @tf.function has experimental_relax_shapes=True option that relaxes argument shapes that can avoid unnecessary retracing. For (3), please refer to https://www.tensorflow.org/tutorials/customization/performance#python_or_tensor_args and https://www.tensorflow.org/api_docs/python/tf/function for  more details.\n"
          ],
          "name": "stdout"
        }
      ]
    },
    {
      "cell_type": "code",
      "metadata": {
        "id": "-NUik_aAJdCV",
        "outputId": "69b224b2-959a-48a8-ee79-08db78f16024",
        "colab": {
          "base_uri": "https://localhost:8080/"
        }
      },
      "source": [
        "# calculate root mean squared error and coefficient of determination\n",
        "trainScore = math.sqrt(mean_squared_error(trainY[0], trainPredict[:,0]))\n",
        "r2trainScore=r2_score(trainY[0], trainPredict[:,0])\n",
        "print('Train Score: RMSE = %.2f, R2 = %2f' % (trainScore, r2trainScore))\n",
        "testScore = math.sqrt(mean_squared_error(testY[0], testPredict[:,0]))\n",
        "r2testScore=r2_score(testY[0], testPredict[:,0])\n",
        "print('Test Score: RMSE = %.2f, R2 = %.2f' % (testScore, r2testScore))"
      ],
      "execution_count": null,
      "outputs": [
        {
          "output_type": "stream",
          "text": [
            "Train Score: RMSE = 24.44, R2 = 0.885183\n",
            "Test Score: RMSE = 58.11, R2 = 0.46\n"
          ],
          "name": "stdout"
        }
      ]
    },
    {
      "cell_type": "code",
      "metadata": {
        "id": "b6ncyiaIJdCX",
        "outputId": "811e4211-2d0a-443e-cf80-477096dd699a",
        "colab": {
          "base_uri": "https://localhost:8080/",
          "height": 320
        }
      },
      "source": [
        "# shift train predictions for plotting\n",
        "trainPredictPlot = np.empty_like(dataset)\n",
        "trainPredictPlot[:, :] = np.nan\n",
        "trainPredictPlot[LAG:len(trainPredict)+LAG, :] = trainPredict\n",
        "# shift test predictions for plotting\n",
        "testPredictPlot = np.empty_like(dataset)\n",
        "testPredictPlot[:, :] = np.nan\n",
        "testPredictPlot[len(trainPredict)+(LAG*2)+1:len(dataset)-1, :] = testPredict\n",
        "# plot baseline and predictions\n",
        "plt.figure(figsize=(8,5))\n",
        "plt.plot(scaler.inverse_transform(dataset))\n",
        "plt.plot(trainPredictPlot)\n",
        "plt.plot(testPredictPlot)\n",
        "plt.show()"
      ],
      "execution_count": null,
      "outputs": [
        {
          "output_type": "display_data",
          "data": {
            "image/png": "[encoded data removed]",
            "text/plain": [
              "<Figure size 576x360 with 1 Axes>"
            ]
          },
          "metadata": {
            "tags": [],
            "needs_background": "light"
          }
        }
      ]
    },
    {
      "cell_type": "markdown",
      "metadata": {
        "id": "S2qf2bWFJdCa"
      },
      "source": [
        "We can see that the results are about the same as previous example on training, worse on test. The structure of the input data makes more sense, but seems to cause some overfitting."
      ]
    },
    {
      "cell_type": "markdown",
      "metadata": {
        "id": "Rmi5b4yMJdCa"
      },
      "source": [
        "### LSTM with memory between batches\n",
        "The LSTM network has memory, which makes it capable of remembering long input sequences. However, Keras normally resets the internal state of the network after each batch during training and after each call to model.predict or model.evaluate.\n",
        "We can make the LSTM stateful, hence build an internal state over an entire epoch rather than just a batch. We can also maintain it for predictions.\n",
        "For that to work, we must:\n",
        "- Specify the stateful parameter to be True.\n",
        "- Not shuffle the data when training.\n",
        "- Reset the state after each epoch, as Keras won't do it for us.\n",
        "- Specify a batch shape of [batch_size, steps, features]."
      ]
    },
    {
      "cell_type": "code",
      "metadata": {
        "id": "u2rAbCVqJdCb"
      },
      "source": [
        "LAG = 3\n",
        "trainX, trainY = create_xy(train, 0, LAG)\n",
        "testX, testY = create_xy(test, 0, LAG)\n",
        "# reshape input to be [samples, time steps, features]\n",
        "trainX = np.reshape(trainX, (trainX.shape[0], trainX.shape[1], 1))\n",
        "testX = np.reshape(testX, (testX.shape[0], testX.shape[1], 1))"
      ],
      "execution_count": null,
      "outputs": []
    },
    {
      "cell_type": "code",
      "metadata": {
        "id": "jRe8xZcZJdCc"
      },
      "source": [
        "# create the LSTM network\n",
        "BATCH_SIZE = 1\n",
        "model = Sequential()\n",
        "model.add(LSTM(4, batch_input_shape=(BATCH_SIZE, LAG, 1), stateful=True))\n",
        "model.add(Dense(1))\n",
        "model.compile(loss='mean_squared_error', optimizer='adam')"
      ],
      "execution_count": null,
      "outputs": []
    },
    {
      "cell_type": "code",
      "metadata": {
        "id": "UFzuGnXaJdCe",
        "outputId": "1e521d56-dced-431e-a032-3b5fe9a94f8f",
        "colab": {
          "base_uri": "https://localhost:8080/"
        }
      },
      "source": [
        "# train the network while maintaining state for each epoch. Reset after each epoch. \n",
        "for i in range(100):\n",
        "    model.fit(trainX, trainY, epochs=1, batch_size=BATCH_SIZE, verbose=1, shuffle=False)\n",
        "    model.reset_states()"
      ],
      "execution_count": null,
      "outputs": [
        {
          "output_type": "stream",
          "text": [
            "96/96 [==============================] - 0s 2ms/step - loss: 0.0042\n",
            "96/96 [==============================] - 0s 1ms/step - loss: 0.0081\n",
            "96/96 [==============================] - 0s 2ms/step - loss: 0.0061\n",
            "96/96 [==============================] - 0s 2ms/step - loss: 0.0051\n",
            "96/96 [==============================] - 0s 1ms/step - loss: 0.0046\n",
            "96/96 [==============================] - 0s 1ms/step - loss: 0.0043\n",
            "96/96 [==============================] - 0s 1ms/step - loss: 0.0042\n",
            "96/96 [==============================] - 0s 1ms/step - loss: 0.0040\n",
            "96/96 [==============================] - 0s 2ms/step - loss: 0.0039\n",
            "96/96 [==============================] - 0s 1ms/step - loss: 0.0039\n",
            "96/96 [==============================] - 0s 2ms/step - loss: 0.0038\n",
            "96/96 [==============================] - 0s 1ms/step - loss: 0.0037\n",
            "96/96 [==============================] - 0s 2ms/step - loss: 0.0037\n",
            "96/96 [==============================] - 0s 2ms/step - loss: 0.0036\n",
            "96/96 [==============================] - 0s 2ms/step - loss: 0.0036\n",
            "96/96 [==============================] - 0s 2ms/step - loss: 0.0035\n",
            "96/96 [==============================] - 0s 1ms/step - loss: 0.0035\n",
            "96/96 [==============================] - 0s 2ms/step - loss: 0.0034\n",
            "96/96 [==============================] - 0s 2ms/step - loss: 0.0034\n",
            "96/96 [==============================] - 0s 2ms/step - loss: 0.0033\n",
            "96/96 [==============================] - 0s 2ms/step - loss: 0.0033\n",
            "96/96 [==============================] - 0s 2ms/step - loss: 0.0032\n",
            "96/96 [==============================] - 0s 1ms/step - loss: 0.0032\n",
            "96/96 [==============================] - 0s 2ms/step - loss: 0.0031\n",
            "96/96 [==============================] - 0s 2ms/step - loss: 0.0031\n",
            "96/96 [==============================] - 0s 1ms/step - loss: 0.0030\n",
            "96/96 [==============================] - 0s 2ms/step - loss: 0.0030\n",
            "96/96 [==============================] - 0s 1ms/step - loss: 0.0029\n",
            "96/96 [==============================] - 0s 2ms/step - loss: 0.0029\n",
            "96/96 [==============================] - 0s 2ms/step - loss: 0.0029\n",
            "96/96 [==============================] - 0s 2ms/step - loss: 0.0028\n",
            "96/96 [==============================] - 0s 2ms/step - loss: 0.0028\n",
            "96/96 [==============================] - 0s 1ms/step - loss: 0.0027\n",
            "96/96 [==============================] - 0s 1ms/step - loss: 0.0027\n",
            "96/96 [==============================] - 0s 2ms/step - loss: 0.0026\n",
            "96/96 [==============================] - 0s 2ms/step - loss: 0.0026\n",
            "96/96 [==============================] - 0s 2ms/step - loss: 0.0025\n",
            "96/96 [==============================] - 0s 1ms/step - loss: 0.0025\n",
            "96/96 [==============================] - 0s 1ms/step - loss: 0.0025\n",
            "96/96 [==============================] - 0s 1ms/step - loss: 0.0024\n",
            "96/96 [==============================] - 0s 2ms/step - loss: 0.0024\n",
            "96/96 [==============================] - 0s 2ms/step - loss: 0.0023\n",
            "96/96 [==============================] - 0s 2ms/step - loss: 0.0023\n",
            "96/96 [==============================] - 0s 1ms/step - loss: 0.0022\n",
            "96/96 [==============================] - 0s 2ms/step - loss: 0.0022\n",
            "96/96 [==============================] - 0s 2ms/step - loss: 0.0022\n",
            "96/96 [==============================] - 0s 2ms/step - loss: 0.0021\n",
            "96/96 [==============================] - 0s 1ms/step - loss: 0.0021\n",
            "96/96 [==============================] - 0s 2ms/step - loss: 0.0021\n",
            "96/96 [==============================] - 0s 2ms/step - loss: 0.0020\n",
            "96/96 [==============================] - 0s 2ms/step - loss: 0.0020\n",
            "96/96 [==============================] - 0s 2ms/step - loss: 0.0020\n",
            "96/96 [==============================] - 0s 1ms/step - loss: 0.0020\n",
            "96/96 [==============================] - 0s 2ms/step - loss: 0.0019\n",
            "96/96 [==============================] - 0s 2ms/step - loss: 0.0019\n",
            "96/96 [==============================] - 0s 2ms/step - loss: 0.0019\n",
            "96/96 [==============================] - 0s 1ms/step - loss: 0.0019\n",
            "96/96 [==============================] - 0s 1ms/step - loss: 0.0019\n",
            "96/96 [==============================] - 0s 1ms/step - loss: 0.0019\n",
            "96/96 [==============================] - 0s 2ms/step - loss: 0.0019\n",
            "96/96 [==============================] - 0s 1ms/step - loss: 0.0019\n",
            "96/96 [==============================] - 0s 2ms/step - loss: 0.0019\n",
            "96/96 [==============================] - 0s 2ms/step - loss: 0.0018\n",
            "96/96 [==============================] - 0s 1ms/step - loss: 0.0018\n",
            "96/96 [==============================] - 0s 2ms/step - loss: 0.0018\n",
            "96/96 [==============================] - 0s 2ms/step - loss: 0.0018\n",
            "96/96 [==============================] - 0s 2ms/step - loss: 0.0018\n",
            "96/96 [==============================] - 0s 2ms/step - loss: 0.0018\n",
            "96/96 [==============================] - 0s 1ms/step - loss: 0.0018\n",
            "96/96 [==============================] - 0s 2ms/step - loss: 0.0018\n",
            "96/96 [==============================] - 0s 2ms/step - loss: 0.0018\n",
            "96/96 [==============================] - 0s 2ms/step - loss: 0.0018\n",
            "96/96 [==============================] - 0s 2ms/step - loss: 0.0018\n",
            "96/96 [==============================] - 0s 1ms/step - loss: 0.0018\n",
            "96/96 [==============================] - 0s 2ms/step - loss: 0.0018\n",
            "96/96 [==============================] - 0s 1ms/step - loss: 0.0018\n",
            "96/96 [==============================] - 0s 1ms/step - loss: 0.0018\n",
            "96/96 [==============================] - 0s 1ms/step - loss: 0.0018\n",
            "96/96 [==============================] - 0s 1ms/step - loss: 0.0017\n",
            "96/96 [==============================] - 0s 2ms/step - loss: 0.0017\n",
            "96/96 [==============================] - 0s 2ms/step - loss: 0.0017\n",
            "96/96 [==============================] - 0s 1ms/step - loss: 0.0017\n",
            "96/96 [==============================] - 0s 1ms/step - loss: 0.0017\n",
            "96/96 [==============================] - 0s 1ms/step - loss: 0.0017\n",
            "96/96 [==============================] - 0s 1ms/step - loss: 0.0017\n",
            "96/96 [==============================] - 0s 2ms/step - loss: 0.0017\n",
            "96/96 [==============================] - 0s 2ms/step - loss: 0.0017\n",
            "96/96 [==============================] - 0s 2ms/step - loss: 0.0017\n",
            "96/96 [==============================] - 0s 2ms/step - loss: 0.0017\n",
            "96/96 [==============================] - 0s 1ms/step - loss: 0.0017\n",
            "96/96 [==============================] - 0s 2ms/step - loss: 0.0017\n",
            "96/96 [==============================] - 0s 2ms/step - loss: 0.0017\n",
            "96/96 [==============================] - 0s 2ms/step - loss: 0.0017\n",
            "96/96 [==============================] - 0s 2ms/step - loss: 0.0017\n",
            "96/96 [==============================] - 0s 2ms/step - loss: 0.0017\n",
            "96/96 [==============================] - 0s 2ms/step - loss: 0.0017\n",
            "96/96 [==============================] - 0s 2ms/step - loss: 0.0017\n",
            "96/96 [==============================] - 0s 1ms/step - loss: 0.0017\n",
            "96/96 [==============================] - 0s 2ms/step - loss: 0.0017\n",
            "96/96 [==============================] - 0s 1ms/step - loss: 0.0017\n"
          ],
          "name": "stdout"
        }
      ]
    },
    {
      "cell_type": "code",
      "metadata": {
        "id": "-DoNdDIWJdCg",
        "outputId": "30bc68e5-0963-42c9-85f6-ef07c488c67f",
        "colab": {
          "base_uri": "https://localhost:8080/"
        }
      },
      "source": [
        "# make predictions\n",
        "trainPredict = model.predict(trainX, batch_size=BATCH_SIZE)\n",
        "model.reset_states()\n",
        "testPredict = model.predict(testX, batch_size=BATCH_SIZE)"
      ],
      "execution_count": null,
      "outputs": [
        {
          "output_type": "stream",
          "text": [
            "WARNING:tensorflow:5 out of the last 11 calls to <function Model.make_predict_function.<locals>.predict_function at 0x7f15b8984400> triggered tf.function retracing. Tracing is expensive and the excessive number of tracings could be due to (1) creating @tf.function repeatedly in a loop, (2) passing tensors with different shapes, (3) passing Python objects instead of tensors. For (1), please define your @tf.function outside of the loop. For (2), @tf.function has experimental_relax_shapes=True option that relaxes argument shapes that can avoid unnecessary retracing. For (3), please refer to https://www.tensorflow.org/tutorials/customization/performance#python_or_tensor_args and https://www.tensorflow.org/api_docs/python/tf/function for  more details.\n"
          ],
          "name": "stdout"
        }
      ]
    },
    {
      "cell_type": "code",
      "metadata": {
        "id": "OjZa5pX2JdCi"
      },
      "source": [
        "# invert predictions\n",
        "trainPredict = scaler.inverse_transform(trainPredict)\n",
        "trainY = scaler.inverse_transform([trainY])\n",
        "testPredict = scaler.inverse_transform(testPredict)\n",
        "testY = scaler.inverse_transform([testY])"
      ],
      "execution_count": null,
      "outputs": []
    },
    {
      "cell_type": "code",
      "metadata": {
        "id": "cbt7dD9AJdCk",
        "outputId": "615819e2-51b7-45e2-8b3b-277165fc7d4f",
        "colab": {
          "base_uri": "https://localhost:8080/"
        }
      },
      "source": [
        "# calculate root mean squared error and coefficient of determination\n",
        "trainScore = math.sqrt(mean_squared_error(trainY[0], trainPredict[:,0]))\n",
        "r2trainScore=r2_score(trainY[0], trainPredict[:,0])\n",
        "print('Train Score: RMSE = %.2f, R2 = %2f' % (trainScore, r2trainScore))\n",
        "testScore = math.sqrt(mean_squared_error(testY[0], testPredict[:,0]))\n",
        "r2testScore=r2_score(testY[0], testPredict[:,0])\n",
        "print('Test Score: RMSE = %.2f, R2 = %.2f' % (testScore, r2testScore))"
      ],
      "execution_count": null,
      "outputs": [
        {
          "output_type": "stream",
          "text": [
            "Train Score: RMSE = 21.79, R2 = 0.908724\n",
            "Test Score: RMSE = 52.99, R2 = 0.55\n"
          ],
          "name": "stdout"
        }
      ]
    },
    {
      "cell_type": "code",
      "metadata": {
        "id": "a_KbjS1aJdCm",
        "outputId": "17258df2-13f7-4f22-e5c7-cb0c85298481",
        "colab": {
          "base_uri": "https://localhost:8080/",
          "height": 320
        }
      },
      "source": [
        "# shift train predictions for plotting\n",
        "trainPredictPlot = np.empty_like(dataset)\n",
        "trainPredictPlot[:, :] = np.nan\n",
        "trainPredictPlot[LAG:len(trainPredict)+LAG, :] = trainPredict\n",
        "# shift test predictions for plotting\n",
        "testPredictPlot = np.empty_like(dataset)\n",
        "testPredictPlot[:, :] = np.nan\n",
        "testPredictPlot[len(trainPredict)+(LAG*2)+1:len(dataset)-1, :] = testPredict\n",
        "# plot baseline and predictions\n",
        "plt.figure(figsize=(8,5))\n",
        "plt.plot(scaler.inverse_transform(dataset))\n",
        "plt.plot(trainPredictPlot)\n",
        "plt.plot(testPredictPlot)\n",
        "plt.show()"
      ],
      "execution_count": null,
      "outputs": [
        {
          "output_type": "display_data",
          "data": {
            "image/png": "[encoded data removed]",
            "text/plain": [
              "<Figure size 576x360 with 1 Axes>"
            ]
          },
          "metadata": {
            "tags": [],
            "needs_background": "light"
          }
        }
      ]
    },
    {
      "cell_type": "markdown",
      "metadata": {
        "id": "aDCJXlXlJdCo"
      },
      "source": [
        "Somewhat better results on training and test: The model may need more modules and may need to be trained for more epochs."
      ]
    },
    {
      "cell_type": "markdown",
      "metadata": {
        "id": "Hq1NBkPuJdCo"
      },
      "source": [
        "### Stacked LSTMs with memory between batches\n",
        "\n",
        "To add modules, LSTM networks can be stacked in Keras. For that to work, each LSTM layer except the last one must return the sequence of its hidden states."
      ]
    },
    {
      "cell_type": "code",
      "metadata": {
        "id": "Dr2uKCifJdCo"
      },
      "source": [
        "LAG = 3\n",
        "trainX, trainY = create_xy(train, 0, LAG)\n",
        "testX, testY = create_xy(test, 0, LAG)\n",
        "# reshape input to be [samples, time steps, features]\n",
        "trainX = np.reshape(trainX, (trainX.shape[0], trainX.shape[1], 1))\n",
        "testX = np.reshape(testX, (testX.shape[0], testX.shape[1], 1))"
      ],
      "execution_count": null,
      "outputs": []
    },
    {
      "cell_type": "code",
      "metadata": {
        "id": "K4uQYXmaJdCq"
      },
      "source": [
        "# create the LSTM network\n",
        "BATCH_SIZE = 1\n",
        "model = Sequential()\n",
        "model.add(LSTM(4, batch_input_shape=(BATCH_SIZE, LAG, 1), stateful=True, return_sequences=True)) # return the sequence\n",
        "model.add(LSTM(4, batch_input_shape=(BATCH_SIZE, LAG, 1), stateful=True, return_sequences=False)) # last LSTM need not return the sequence\n",
        "model.add(Dense(1))\n",
        "model.compile(loss='mean_squared_error', optimizer='adam')"
      ],
      "execution_count": null,
      "outputs": []
    },
    {
      "cell_type": "code",
      "metadata": {
        "id": "DtGEePc1JdCt",
        "outputId": "d3f8c0a4-52f7-4c30-9550-9a382649794d",
        "colab": {
          "base_uri": "https://localhost:8080/"
        }
      },
      "source": [
        "# train the network while maintaining state for each epoch. Reset after each epoch. \n",
        "for i in range(100):\n",
        "    model.fit(trainX, trainY, epochs=1, batch_size=BATCH_SIZE, verbose=1, shuffle=False)\n",
        "    model.reset_states()"
      ],
      "execution_count": null,
      "outputs": [
        {
          "output_type": "stream",
          "text": [
            "96/96 [==============================] - 0s 2ms/step - loss: 0.0051\n",
            "96/96 [==============================] - 0s 3ms/step - loss: 0.0087\n",
            "96/96 [==============================] - 0s 3ms/step - loss: 0.0072\n",
            "96/96 [==============================] - 0s 3ms/step - loss: 0.0063\n",
            "96/96 [==============================] - 0s 3ms/step - loss: 0.0059\n",
            "96/96 [==============================] - 0s 3ms/step - loss: 0.0057\n",
            "96/96 [==============================] - 0s 3ms/step - loss: 0.0056\n",
            "96/96 [==============================] - 0s 3ms/step - loss: 0.0056\n",
            "96/96 [==============================] - 0s 3ms/step - loss: 0.0055\n",
            "96/96 [==============================] - 0s 4ms/step - loss: 0.0055\n",
            "96/96 [==============================] - 0s 5ms/step - loss: 0.0055\n",
            "96/96 [==============================] - 0s 5ms/step - loss: 0.0056\n",
            "96/96 [==============================] - 1s 5ms/step - loss: 0.0056\n",
            "96/96 [==============================] - 1s 6ms/step - loss: 0.0056\n",
            "96/96 [==============================] - 0s 4ms/step - loss: 0.0056\n",
            "96/96 [==============================] - 1s 6ms/step - loss: 0.0056\n",
            "96/96 [==============================] - 1s 5ms/step - loss: 0.0056\n",
            "96/96 [==============================] - 0s 5ms/step - loss: 0.0057\n",
            "96/96 [==============================] - 0s 5ms/step - loss: 0.0057\n",
            "96/96 [==============================] - 1s 6ms/step - loss: 0.0057\n",
            "96/96 [==============================] - 0s 5ms/step - loss: 0.0056\n",
            "96/96 [==============================] - 0s 3ms/step - loss: 0.0056\n",
            "96/96 [==============================] - 0s 3ms/step - loss: 0.0056\n",
            "96/96 [==============================] - 0s 3ms/step - loss: 0.0056\n",
            "96/96 [==============================] - 0s 3ms/step - loss: 0.0055\n",
            "96/96 [==============================] - 0s 3ms/step - loss: 0.0054\n",
            "96/96 [==============================] - 0s 3ms/step - loss: 0.0053\n",
            "96/96 [==============================] - 0s 3ms/step - loss: 0.0052\n",
            "96/96 [==============================] - 0s 3ms/step - loss: 0.0051\n",
            "96/96 [==============================] - 0s 3ms/step - loss: 0.0049\n",
            "96/96 [==============================] - 0s 3ms/step - loss: 0.0047\n",
            "96/96 [==============================] - 0s 3ms/step - loss: 0.0045\n",
            "96/96 [==============================] - 0s 3ms/step - loss: 0.0043\n",
            "96/96 [==============================] - 0s 3ms/step - loss: 0.0041\n",
            "96/96 [==============================] - 0s 3ms/step - loss: 0.0039\n",
            "96/96 [==============================] - 0s 3ms/step - loss: 0.0038\n",
            "96/96 [==============================] - 0s 3ms/step - loss: 0.0036\n",
            "96/96 [==============================] - 0s 2ms/step - loss: 0.0035\n",
            "96/96 [==============================] - 0s 3ms/step - loss: 0.0034\n",
            "96/96 [==============================] - 0s 3ms/step - loss: 0.0033\n",
            "96/96 [==============================] - 0s 3ms/step - loss: 0.0032\n",
            "96/96 [==============================] - 0s 3ms/step - loss: 0.0032\n",
            "96/96 [==============================] - 0s 3ms/step - loss: 0.0031\n",
            "96/96 [==============================] - 0s 3ms/step - loss: 0.0031\n",
            "96/96 [==============================] - 0s 3ms/step - loss: 0.0030\n",
            "96/96 [==============================] - 0s 3ms/step - loss: 0.0030\n",
            "96/96 [==============================] - 0s 3ms/step - loss: 0.0030\n",
            "96/96 [==============================] - 0s 3ms/step - loss: 0.0029\n",
            "96/96 [==============================] - 0s 3ms/step - loss: 0.0029\n",
            "96/96 [==============================] - 0s 3ms/step - loss: 0.0028\n",
            "96/96 [==============================] - 0s 3ms/step - loss: 0.0028\n",
            "96/96 [==============================] - 0s 3ms/step - loss: 0.0028\n",
            "96/96 [==============================] - 0s 3ms/step - loss: 0.0028\n",
            "96/96 [==============================] - 0s 3ms/step - loss: 0.0027\n",
            "96/96 [==============================] - 0s 3ms/step - loss: 0.0027\n",
            "96/96 [==============================] - 0s 3ms/step - loss: 0.0027\n",
            "96/96 [==============================] - 0s 3ms/step - loss: 0.0026\n",
            "96/96 [==============================] - 0s 3ms/step - loss: 0.0026\n",
            "96/96 [==============================] - 0s 2ms/step - loss: 0.0026\n",
            "96/96 [==============================] - 0s 3ms/step - loss: 0.0026\n",
            "96/96 [==============================] - 0s 3ms/step - loss: 0.0025\n",
            "96/96 [==============================] - 0s 2ms/step - loss: 0.0025\n",
            "96/96 [==============================] - 0s 2ms/step - loss: 0.0025\n",
            "96/96 [==============================] - 0s 3ms/step - loss: 0.0025\n",
            "96/96 [==============================] - 0s 3ms/step - loss: 0.0025\n",
            "96/96 [==============================] - 0s 3ms/step - loss: 0.0024\n",
            "96/96 [==============================] - 0s 3ms/step - loss: 0.0024\n",
            "96/96 [==============================] - 0s 3ms/step - loss: 0.0024\n",
            "96/96 [==============================] - 0s 3ms/step - loss: 0.0024\n",
            "96/96 [==============================] - 0s 3ms/step - loss: 0.0024\n",
            "96/96 [==============================] - 0s 3ms/step - loss: 0.0023\n",
            "96/96 [==============================] - 0s 2ms/step - loss: 0.0023\n",
            "96/96 [==============================] - 0s 3ms/step - loss: 0.0023\n",
            "96/96 [==============================] - 0s 3ms/step - loss: 0.0023\n",
            "96/96 [==============================] - 0s 3ms/step - loss: 0.0023\n",
            "96/96 [==============================] - 0s 3ms/step - loss: 0.0022\n",
            "96/96 [==============================] - 0s 3ms/step - loss: 0.0022\n",
            "96/96 [==============================] - 0s 2ms/step - loss: 0.0022\n",
            "96/96 [==============================] - 0s 3ms/step - loss: 0.0022\n",
            "96/96 [==============================] - 0s 3ms/step - loss: 0.0022\n",
            "96/96 [==============================] - 0s 3ms/step - loss: 0.0022\n",
            "96/96 [==============================] - 0s 2ms/step - loss: 0.0022\n",
            "96/96 [==============================] - 0s 3ms/step - loss: 0.0021\n",
            "96/96 [==============================] - 0s 3ms/step - loss: 0.0021\n",
            "96/96 [==============================] - 0s 3ms/step - loss: 0.0021\n",
            "96/96 [==============================] - 0s 3ms/step - loss: 0.0021\n",
            "96/96 [==============================] - 0s 3ms/step - loss: 0.0021\n",
            "96/96 [==============================] - 0s 3ms/step - loss: 0.0021\n",
            "96/96 [==============================] - 0s 3ms/step - loss: 0.0021\n",
            "96/96 [==============================] - 0s 3ms/step - loss: 0.0020\n",
            "96/96 [==============================] - 0s 3ms/step - loss: 0.0020\n",
            "96/96 [==============================] - 0s 3ms/step - loss: 0.0020\n",
            "96/96 [==============================] - 0s 3ms/step - loss: 0.0020\n",
            "96/96 [==============================] - 0s 3ms/step - loss: 0.0020\n",
            "96/96 [==============================] - 0s 2ms/step - loss: 0.0020\n",
            "96/96 [==============================] - 0s 3ms/step - loss: 0.0020\n",
            "96/96 [==============================] - 0s 3ms/step - loss: 0.0020\n",
            "96/96 [==============================] - 0s 3ms/step - loss: 0.0019\n",
            "96/96 [==============================] - 0s 3ms/step - loss: 0.0019\n",
            "96/96 [==============================] - 0s 3ms/step - loss: 0.0019\n"
          ],
          "name": "stdout"
        }
      ]
    },
    {
      "cell_type": "code",
      "metadata": {
        "id": "UX5l4YYiJdCv"
      },
      "source": [
        "# make predictions\n",
        "trainPredict = model.predict(trainX, batch_size=BATCH_SIZE)\n",
        "model.reset_states()\n",
        "testPredict = model.predict(testX, batch_size=BATCH_SIZE)"
      ],
      "execution_count": null,
      "outputs": []
    },
    {
      "cell_type": "code",
      "metadata": {
        "id": "RC4eEz8nJdCy"
      },
      "source": [
        "# de-normalize predictions\n",
        "trainPredict = scaler.inverse_transform(trainPredict)\n",
        "trainY = scaler.inverse_transform([trainY])\n",
        "testPredict = scaler.inverse_transform(testPredict)\n",
        "testY = scaler.inverse_transform([testY])"
      ],
      "execution_count": null,
      "outputs": []
    },
    {
      "cell_type": "code",
      "metadata": {
        "id": "u147MW3jJdCz",
        "outputId": "b09dfd82-b6b9-4dd8-e4fe-5980b0203b38",
        "colab": {
          "base_uri": "https://localhost:8080/"
        }
      },
      "source": [
        "# calculate root mean squared error and coefficient of determination\n",
        "trainScore = math.sqrt(mean_squared_error(trainY[0], trainPredict[:,0]))\n",
        "r2trainScore=r2_score(trainY[0], trainPredict[:,0])\n",
        "print('Train Score: RMSE = %.2f, R2 = %2f' % (trainScore, r2trainScore))\n",
        "testScore = math.sqrt(mean_squared_error(testY[0], testPredict[:,0]))\n",
        "r2testScore=r2_score(testY[0], testPredict[:,0])\n",
        "print('Test Score: RMSE = %.2f, R2 = %.2f' % (testScore, r2testScore))"
      ],
      "execution_count": null,
      "outputs": [
        {
          "output_type": "stream",
          "text": [
            "Train Score: RMSE = 22.31, R2 = 0.904339\n",
            "Test Score: RMSE = 66.62, R2 = 0.29\n"
          ],
          "name": "stdout"
        }
      ]
    },
    {
      "cell_type": "code",
      "metadata": {
        "id": "_vGER8KbJdC1",
        "outputId": "5b7ed557-325b-49f4-a213-47be6e4a8854",
        "colab": {
          "base_uri": "https://localhost:8080/",
          "height": 320
        }
      },
      "source": [
        "# shift train predictions for plotting\n",
        "trainPredictPlot = np.empty_like(dataset)\n",
        "trainPredictPlot[:, :] = np.nan\n",
        "trainPredictPlot[LAG:len(trainPredict)+LAG, :] = trainPredict\n",
        "# shift test predictions for plotting\n",
        "testPredictPlot = np.empty_like(dataset)\n",
        "testPredictPlot[:, :] = np.nan\n",
        "testPredictPlot[len(trainPredict)+(LAG*2)+1:len(dataset)-1, :] = testPredict\n",
        "# plot baseline and predictions\n",
        "plt.figure(figsize=(8,5))\n",
        "plt.plot(scaler.inverse_transform(dataset))\n",
        "plt.plot(trainPredictPlot)\n",
        "plt.plot(testPredictPlot)\n",
        "plt.show()"
      ],
      "execution_count": null,
      "outputs": [
        {
          "output_type": "display_data",
          "data": {
            "image/png": "[encoded data removed]",
            "text/plain": [
              "<Figure size 576x360 with 1 Axes>"
            ]
          },
          "metadata": {
            "tags": [],
            "needs_background": "light"
          }
        }
      ]
    },
    {
      "cell_type": "markdown",
      "metadata": {
        "id": "eP9C6p1TJdC3"
      },
      "source": [
        "The predictions on the test dataset are again worse, but better on the training set. The network may be overfitting the training set - a common problem with LSTMs. We may need to introduce some regularization layers."
      ]
    },
    {
      "cell_type": "markdown",
      "metadata": {
        "id": "3NlF8YFqixww"
      },
      "source": [
        "### And now a little trick\n",
        "A little pre-processing may go a long way. Let us try and remove the multiplicative component. This can be done simply by applying the logarithm function. In fact log(a*b)=log(a)+log(b).\n",
        "We can then reverse the transformation by applying the exponential function exp()."
      ]
    },
    {
      "cell_type": "code",
      "metadata": {
        "id": "ne7-MXljjABP"
      },
      "source": [
        "# The dataset consists of the log of our values. We normalize it into [0,1]\n",
        "dataset = np.log(df.values)\n",
        "dataset = dataset.astype('float32')\n",
        "scaler = MinMaxScaler(feature_range=(0, 1))\n",
        "dataset = scaler.fit_transform(dataset)"
      ],
      "execution_count": null,
      "outputs": []
    },
    {
      "cell_type": "code",
      "metadata": {
        "id": "Tb2AagDCjFVK",
        "outputId": "03bef0c5-adcb-4786-8825-67f05b739084",
        "colab": {
          "base_uri": "https://localhost:8080/",
          "height": 282
        }
      },
      "source": [
        "plt.plot(dataset)"
      ],
      "execution_count": null,
      "outputs": [
        {
          "output_type": "execute_result",
          "data": {
            "text/plain": [
              "[<matplotlib.lines.Line2D at 0x7f15b978c208>]"
            ]
          },
          "metadata": {
            "tags": []
          },
          "execution_count": 54
        },
        {
          "output_type": "display_data",
          "data": {
            "image/png": "[encoded data removed]",
            "text/plain": [
              "<Figure size 432x288 with 1 Axes>"
            ]
          },
          "metadata": {
            "tags": [],
            "needs_background": "light"
          }
        }
      ]
    },
    {
      "cell_type": "code",
      "metadata": {
        "id": "VITCb2WUjIlq",
        "outputId": "32a2face-1d91-41bb-96eb-fb3b88d90446",
        "colab": {
          "base_uri": "https://localhost:8080/"
        }
      },
      "source": [
        "# split into train and test sets\n",
        "TRAIN_PC=0.7 # percentage to train on\n",
        "\n",
        "train_size = int(len(dataset) * TRAIN_PC)\n",
        "test_size = len(dataset) - train_size\n",
        "train, test = dataset[0:train_size,:], dataset[train_size:len(dataset),:]\n",
        "print(len(train), len(test))"
      ],
      "execution_count": null,
      "outputs": [
        {
          "output_type": "stream",
          "text": [
            "100 44\n"
          ],
          "name": "stdout"
        }
      ]
    },
    {
      "cell_type": "code",
      "metadata": {
        "id": "VOzThRGBjL4P"
      },
      "source": [
        "# create features and labels\n",
        "LAG = 3\n",
        "trainX, trainY = create_xy(train, 0, LAG)\n",
        "testX, testY = create_xy(test, 0, LAG)\n",
        "# reshape input to be [samples, time steps, features]\n",
        "trainX = np.reshape(trainX, (trainX.shape[0], trainX.shape[1], 1))\n",
        "testX = np.reshape(testX, (testX.shape[0], testX.shape[1], 1))"
      ],
      "execution_count": null,
      "outputs": []
    },
    {
      "cell_type": "markdown",
      "metadata": {
        "id": "0Ottbpc5jSBD"
      },
      "source": [
        "Now we create a simple network - no fancy memory between batches, state reset etc..."
      ]
    },
    {
      "cell_type": "code",
      "metadata": {
        "id": "cZj1FdnRjOiS"
      },
      "source": [
        "# create the LSTM network\n",
        "model = Sequential()\n",
        "model.add(LSTM(4, \n",
        "               stateful=False, \n",
        "               return_sequences=False)) # last LSTM need not return the sequence\n",
        "model.add(Dense(1))\n",
        "model.compile(loss='mean_squared_error', optimizer='adam')"
      ],
      "execution_count": null,
      "outputs": []
    },
    {
      "cell_type": "code",
      "metadata": {
        "id": "aRLOv23kjcPx",
        "outputId": "2c16e67d-8095-4885-be6a-64c722ff9743",
        "colab": {
          "base_uri": "https://localhost:8080/"
        }
      },
      "source": [
        "# train the network \n",
        "model.fit(trainX, trainY, epochs=200, batch_size=1, verbose=1)"
      ],
      "execution_count": null,
      "outputs": [
        {
          "output_type": "stream",
          "text": [
            "Epoch 1/200\n",
            "96/96 [==============================] - 0s 1ms/step - loss: 0.0244\n",
            "Epoch 2/200\n",
            "96/96 [==============================] - 0s 1ms/step - loss: 0.0091\n",
            "Epoch 3/200\n",
            "96/96 [==============================] - 0s 1ms/step - loss: 0.0080\n",
            "Epoch 4/200\n",
            "96/96 [==============================] - 0s 2ms/step - loss: 0.0069\n",
            "Epoch 5/200\n",
            "96/96 [==============================] - 0s 2ms/step - loss: 0.0063\n",
            "Epoch 6/200\n",
            "96/96 [==============================] - 0s 2ms/step - loss: 0.0059\n",
            "Epoch 7/200\n",
            "96/96 [==============================] - 0s 1ms/step - loss: 0.0057\n",
            "Epoch 8/200\n",
            "96/96 [==============================] - 0s 1ms/step - loss: 0.0056\n",
            "Epoch 9/200\n",
            "96/96 [==============================] - 0s 1ms/step - loss: 0.0055\n",
            "Epoch 10/200\n",
            "96/96 [==============================] - 0s 2ms/step - loss: 0.0055\n",
            "Epoch 11/200\n",
            "96/96 [==============================] - 0s 2ms/step - loss: 0.0053\n",
            "Epoch 12/200\n",
            "96/96 [==============================] - 0s 2ms/step - loss: 0.0053\n",
            "Epoch 13/200\n",
            "96/96 [==============================] - 0s 2ms/step - loss: 0.0052\n",
            "Epoch 14/200\n",
            "96/96 [==============================] - 0s 2ms/step - loss: 0.0054\n",
            "Epoch 15/200\n",
            "96/96 [==============================] - 0s 1ms/step - loss: 0.0052\n",
            "Epoch 16/200\n",
            "96/96 [==============================] - 0s 1ms/step - loss: 0.0053\n",
            "Epoch 17/200\n",
            "96/96 [==============================] - 0s 2ms/step - loss: 0.0054\n",
            "Epoch 18/200\n",
            "96/96 [==============================] - 0s 2ms/step - loss: 0.0051\n",
            "Epoch 19/200\n",
            "96/96 [==============================] - 0s 2ms/step - loss: 0.0051\n",
            "Epoch 20/200\n",
            "96/96 [==============================] - 0s 1ms/step - loss: 0.0054\n",
            "Epoch 21/200\n",
            "96/96 [==============================] - 0s 2ms/step - loss: 0.0051\n",
            "Epoch 22/200\n",
            "96/96 [==============================] - 0s 1ms/step - loss: 0.0052\n",
            "Epoch 23/200\n",
            "96/96 [==============================] - 0s 1ms/step - loss: 0.0051\n",
            "Epoch 24/200\n",
            "96/96 [==============================] - 0s 2ms/step - loss: 0.0051\n",
            "Epoch 25/200\n",
            "96/96 [==============================] - 0s 1ms/step - loss: 0.0052\n",
            "Epoch 26/200\n",
            "96/96 [==============================] - 0s 2ms/step - loss: 0.0052\n",
            "Epoch 27/200\n",
            "96/96 [==============================] - 0s 1ms/step - loss: 0.0052\n",
            "Epoch 28/200\n",
            "96/96 [==============================] - 0s 2ms/step - loss: 0.0052\n",
            "Epoch 29/200\n",
            "96/96 [==============================] - 0s 2ms/step - loss: 0.0050\n",
            "Epoch 30/200\n",
            "96/96 [==============================] - 0s 2ms/step - loss: 0.0049\n",
            "Epoch 31/200\n",
            "96/96 [==============================] - 0s 1ms/step - loss: 0.0050\n",
            "Epoch 32/200\n",
            "96/96 [==============================] - 0s 2ms/step - loss: 0.0049\n",
            "Epoch 33/200\n",
            "96/96 [==============================] - 0s 2ms/step - loss: 0.0050\n",
            "Epoch 34/200\n",
            "96/96 [==============================] - 0s 2ms/step - loss: 0.0047\n",
            "Epoch 35/200\n",
            "96/96 [==============================] - 0s 2ms/step - loss: 0.0049\n",
            "Epoch 36/200\n",
            "96/96 [==============================] - 0s 2ms/step - loss: 0.0049\n",
            "Epoch 37/200\n",
            "96/96 [==============================] - 0s 2ms/step - loss: 0.0051\n",
            "Epoch 38/200\n",
            "96/96 [==============================] - 0s 1ms/step - loss: 0.0048\n",
            "Epoch 39/200\n",
            "96/96 [==============================] - 0s 2ms/step - loss: 0.0046\n",
            "Epoch 40/200\n",
            "96/96 [==============================] - 0s 2ms/step - loss: 0.0048\n",
            "Epoch 41/200\n",
            "96/96 [==============================] - 0s 2ms/step - loss: 0.0047\n",
            "Epoch 42/200\n",
            "96/96 [==============================] - 0s 2ms/step - loss: 0.0048\n",
            "Epoch 43/200\n",
            "96/96 [==============================] - 0s 2ms/step - loss: 0.0045\n",
            "Epoch 44/200\n",
            "96/96 [==============================] - 0s 1ms/step - loss: 0.0045\n",
            "Epoch 45/200\n",
            "96/96 [==============================] - 0s 2ms/step - loss: 0.0046\n",
            "Epoch 46/200\n",
            "96/96 [==============================] - 0s 2ms/step - loss: 0.0044\n",
            "Epoch 47/200\n",
            "96/96 [==============================] - 0s 1ms/step - loss: 0.0043\n",
            "Epoch 48/200\n",
            "96/96 [==============================] - 0s 1ms/step - loss: 0.0044\n",
            "Epoch 49/200\n",
            "96/96 [==============================] - 0s 1ms/step - loss: 0.0042\n",
            "Epoch 50/200\n",
            "96/96 [==============================] - 0s 2ms/step - loss: 0.0043\n",
            "Epoch 51/200\n",
            "96/96 [==============================] - 0s 2ms/step - loss: 0.0044\n",
            "Epoch 52/200\n",
            "96/96 [==============================] - 0s 1ms/step - loss: 0.0042\n",
            "Epoch 53/200\n",
            "96/96 [==============================] - 0s 2ms/step - loss: 0.0041\n",
            "Epoch 54/200\n",
            "96/96 [==============================] - 0s 1ms/step - loss: 0.0042\n",
            "Epoch 55/200\n",
            "96/96 [==============================] - 0s 2ms/step - loss: 0.0041\n",
            "Epoch 56/200\n",
            "96/96 [==============================] - 0s 2ms/step - loss: 0.0041\n",
            "Epoch 57/200\n",
            "96/96 [==============================] - 0s 2ms/step - loss: 0.0042\n",
            "Epoch 58/200\n",
            "96/96 [==============================] - 0s 2ms/step - loss: 0.0042\n",
            "Epoch 59/200\n",
            "96/96 [==============================] - 0s 2ms/step - loss: 0.0040\n",
            "Epoch 60/200\n",
            "96/96 [==============================] - 0s 2ms/step - loss: 0.0040\n",
            "Epoch 61/200\n",
            "96/96 [==============================] - 0s 2ms/step - loss: 0.0040\n",
            "Epoch 62/200\n",
            "96/96 [==============================] - 0s 1ms/step - loss: 0.0041\n",
            "Epoch 63/200\n",
            "96/96 [==============================] - 0s 2ms/step - loss: 0.0037\n",
            "Epoch 64/200\n",
            "96/96 [==============================] - 0s 1ms/step - loss: 0.0039\n",
            "Epoch 65/200\n",
            "96/96 [==============================] - 0s 2ms/step - loss: 0.0039\n",
            "Epoch 66/200\n",
            "96/96 [==============================] - 0s 2ms/step - loss: 0.0038\n",
            "Epoch 67/200\n",
            "96/96 [==============================] - 0s 2ms/step - loss: 0.0040\n",
            "Epoch 68/200\n",
            "96/96 [==============================] - 0s 2ms/step - loss: 0.0038\n",
            "Epoch 69/200\n",
            "96/96 [==============================] - 0s 1ms/step - loss: 0.0038\n",
            "Epoch 70/200\n",
            "96/96 [==============================] - 0s 2ms/step - loss: 0.0038\n",
            "Epoch 71/200\n",
            "96/96 [==============================] - 0s 2ms/step - loss: 0.0038\n",
            "Epoch 72/200\n",
            "96/96 [==============================] - 0s 1ms/step - loss: 0.0037\n",
            "Epoch 73/200\n",
            "96/96 [==============================] - 0s 2ms/step - loss: 0.0037\n",
            "Epoch 74/200\n",
            "96/96 [==============================] - 0s 2ms/step - loss: 0.0039\n",
            "Epoch 75/200\n",
            "96/96 [==============================] - 0s 1ms/step - loss: 0.0036\n",
            "Epoch 76/200\n",
            "96/96 [==============================] - 0s 2ms/step - loss: 0.0038\n",
            "Epoch 77/200\n",
            "96/96 [==============================] - 0s 1ms/step - loss: 0.0037\n",
            "Epoch 78/200\n",
            "96/96 [==============================] - 0s 2ms/step - loss: 0.0038\n",
            "Epoch 79/200\n",
            "96/96 [==============================] - 0s 2ms/step - loss: 0.0037\n",
            "Epoch 80/200\n",
            "96/96 [==============================] - 0s 1ms/step - loss: 0.0036\n",
            "Epoch 81/200\n",
            "96/96 [==============================] - 0s 2ms/step - loss: 0.0038\n",
            "Epoch 82/200\n",
            "96/96 [==============================] - 0s 2ms/step - loss: 0.0036\n",
            "Epoch 83/200\n",
            "96/96 [==============================] - 0s 1ms/step - loss: 0.0035\n",
            "Epoch 84/200\n",
            "96/96 [==============================] - 0s 1ms/step - loss: 0.0038\n",
            "Epoch 85/200\n",
            "96/96 [==============================] - 0s 1ms/step - loss: 0.0037\n",
            "Epoch 86/200\n",
            "96/96 [==============================] - 0s 2ms/step - loss: 0.0035\n",
            "Epoch 87/200\n",
            "96/96 [==============================] - 0s 1ms/step - loss: 0.0036\n",
            "Epoch 88/200\n",
            "96/96 [==============================] - 0s 2ms/step - loss: 0.0036\n",
            "Epoch 89/200\n",
            "96/96 [==============================] - 0s 2ms/step - loss: 0.0034\n",
            "Epoch 90/200\n",
            "96/96 [==============================] - 0s 2ms/step - loss: 0.0036\n",
            "Epoch 91/200\n",
            "96/96 [==============================] - 0s 1ms/step - loss: 0.0035\n",
            "Epoch 92/200\n",
            "96/96 [==============================] - 0s 1ms/step - loss: 0.0034\n",
            "Epoch 93/200\n",
            "96/96 [==============================] - 0s 2ms/step - loss: 0.0036\n",
            "Epoch 94/200\n",
            "96/96 [==============================] - 0s 2ms/step - loss: 0.0035\n",
            "Epoch 95/200\n",
            "96/96 [==============================] - 0s 2ms/step - loss: 0.0035\n",
            "Epoch 96/200\n",
            "96/96 [==============================] - 0s 2ms/step - loss: 0.0035\n",
            "Epoch 97/200\n",
            "96/96 [==============================] - 0s 2ms/step - loss: 0.0037\n",
            "Epoch 98/200\n",
            "96/96 [==============================] - 0s 1ms/step - loss: 0.0035\n",
            "Epoch 99/200\n",
            "96/96 [==============================] - 0s 2ms/step - loss: 0.0034\n",
            "Epoch 100/200\n",
            "96/96 [==============================] - 0s 1ms/step - loss: 0.0035\n",
            "Epoch 101/200\n",
            "96/96 [==============================] - 0s 2ms/step - loss: 0.0034\n",
            "Epoch 102/200\n",
            "96/96 [==============================] - 0s 2ms/step - loss: 0.0035\n",
            "Epoch 103/200\n",
            "96/96 [==============================] - 0s 2ms/step - loss: 0.0033\n",
            "Epoch 104/200\n",
            "96/96 [==============================] - 0s 2ms/step - loss: 0.0036\n",
            "Epoch 105/200\n",
            "96/96 [==============================] - 0s 1ms/step - loss: 0.0034\n",
            "Epoch 106/200\n",
            "96/96 [==============================] - 0s 2ms/step - loss: 0.0035\n",
            "Epoch 107/200\n",
            "96/96 [==============================] - 0s 2ms/step - loss: 0.0034\n",
            "Epoch 108/200\n",
            "96/96 [==============================] - 0s 1ms/step - loss: 0.0033\n",
            "Epoch 109/200\n",
            "96/96 [==============================] - 0s 2ms/step - loss: 0.0034\n",
            "Epoch 110/200\n",
            "96/96 [==============================] - 0s 2ms/step - loss: 0.0034\n",
            "Epoch 111/200\n",
            "96/96 [==============================] - 0s 2ms/step - loss: 0.0034\n",
            "Epoch 112/200\n",
            "96/96 [==============================] - 0s 2ms/step - loss: 0.0034\n",
            "Epoch 113/200\n",
            "96/96 [==============================] - 0s 1ms/step - loss: 0.0033\n",
            "Epoch 114/200\n",
            "96/96 [==============================] - 0s 2ms/step - loss: 0.0035\n",
            "Epoch 115/200\n",
            "96/96 [==============================] - 0s 2ms/step - loss: 0.0035\n",
            "Epoch 116/200\n",
            "96/96 [==============================] - 0s 2ms/step - loss: 0.0034\n",
            "Epoch 117/200\n",
            "96/96 [==============================] - 0s 2ms/step - loss: 0.0032\n",
            "Epoch 118/200\n",
            "96/96 [==============================] - 0s 1ms/step - loss: 0.0033\n",
            "Epoch 119/200\n",
            "96/96 [==============================] - 0s 1ms/step - loss: 0.0032\n",
            "Epoch 120/200\n",
            "96/96 [==============================] - 0s 1ms/step - loss: 0.0034\n",
            "Epoch 121/200\n",
            "96/96 [==============================] - 0s 1ms/step - loss: 0.0032\n",
            "Epoch 122/200\n",
            "96/96 [==============================] - 0s 2ms/step - loss: 0.0034\n",
            "Epoch 123/200\n",
            "96/96 [==============================] - 0s 2ms/step - loss: 0.0032\n",
            "Epoch 124/200\n",
            "96/96 [==============================] - 0s 2ms/step - loss: 0.0031\n",
            "Epoch 125/200\n",
            "96/96 [==============================] - 0s 2ms/step - loss: 0.0032\n",
            "Epoch 126/200\n",
            "96/96 [==============================] - 0s 1ms/step - loss: 0.0032\n",
            "Epoch 127/200\n",
            "96/96 [==============================] - 0s 2ms/step - loss: 0.0032\n",
            "Epoch 128/200\n",
            "96/96 [==============================] - 0s 2ms/step - loss: 0.0032\n",
            "Epoch 129/200\n",
            "96/96 [==============================] - 0s 2ms/step - loss: 0.0032\n",
            "Epoch 130/200\n",
            "96/96 [==============================] - 0s 1ms/step - loss: 0.0032\n",
            "Epoch 131/200\n",
            "96/96 [==============================] - 0s 2ms/step - loss: 0.0034\n",
            "Epoch 132/200\n",
            "96/96 [==============================] - 0s 2ms/step - loss: 0.0036\n",
            "Epoch 133/200\n",
            "96/96 [==============================] - 0s 1ms/step - loss: 0.0032\n",
            "Epoch 134/200\n",
            "96/96 [==============================] - 0s 1ms/step - loss: 0.0031\n",
            "Epoch 135/200\n",
            "96/96 [==============================] - 0s 2ms/step - loss: 0.0033\n",
            "Epoch 136/200\n",
            "96/96 [==============================] - 0s 2ms/step - loss: 0.0032\n",
            "Epoch 137/200\n",
            "96/96 [==============================] - 0s 2ms/step - loss: 0.0033\n",
            "Epoch 138/200\n",
            "96/96 [==============================] - 0s 2ms/step - loss: 0.0032\n",
            "Epoch 139/200\n",
            "96/96 [==============================] - 0s 2ms/step - loss: 0.0032\n",
            "Epoch 140/200\n",
            "96/96 [==============================] - 0s 2ms/step - loss: 0.0031\n",
            "Epoch 141/200\n",
            "96/96 [==============================] - 0s 2ms/step - loss: 0.0033\n",
            "Epoch 142/200\n",
            "96/96 [==============================] - 0s 1ms/step - loss: 0.0033\n",
            "Epoch 143/200\n",
            "96/96 [==============================] - 0s 2ms/step - loss: 0.0032\n",
            "Epoch 144/200\n",
            "96/96 [==============================] - 0s 2ms/step - loss: 0.0033\n",
            "Epoch 145/200\n",
            "96/96 [==============================] - 0s 2ms/step - loss: 0.0032\n",
            "Epoch 146/200\n",
            "96/96 [==============================] - 0s 2ms/step - loss: 0.0032\n",
            "Epoch 147/200\n",
            "96/96 [==============================] - 0s 2ms/step - loss: 0.0032\n",
            "Epoch 148/200\n",
            "96/96 [==============================] - 0s 2ms/step - loss: 0.0031\n",
            "Epoch 149/200\n",
            "96/96 [==============================] - 0s 2ms/step - loss: 0.0032\n",
            "Epoch 150/200\n",
            "96/96 [==============================] - 0s 2ms/step - loss: 0.0032\n",
            "Epoch 151/200\n",
            "96/96 [==============================] - 0s 2ms/step - loss: 0.0033\n",
            "Epoch 152/200\n",
            "96/96 [==============================] - 0s 2ms/step - loss: 0.0032\n",
            "Epoch 153/200\n",
            "96/96 [==============================] - 0s 2ms/step - loss: 0.0032\n",
            "Epoch 154/200\n",
            "96/96 [==============================] - 0s 2ms/step - loss: 0.0032\n",
            "Epoch 155/200\n",
            "96/96 [==============================] - 0s 1ms/step - loss: 0.0032\n",
            "Epoch 156/200\n",
            "96/96 [==============================] - 0s 2ms/step - loss: 0.0031\n",
            "Epoch 157/200\n",
            "96/96 [==============================] - 0s 2ms/step - loss: 0.0031\n",
            "Epoch 158/200\n",
            "96/96 [==============================] - 0s 1ms/step - loss: 0.0031\n",
            "Epoch 159/200\n",
            "96/96 [==============================] - 0s 1ms/step - loss: 0.0032\n",
            "Epoch 160/200\n",
            "96/96 [==============================] - 0s 2ms/step - loss: 0.0032\n",
            "Epoch 161/200\n",
            "96/96 [==============================] - 0s 1ms/step - loss: 0.0032\n",
            "Epoch 162/200\n",
            "96/96 [==============================] - 0s 1ms/step - loss: 0.0032\n",
            "Epoch 163/200\n",
            "96/96 [==============================] - 0s 2ms/step - loss: 0.0032\n",
            "Epoch 164/200\n",
            "96/96 [==============================] - 0s 2ms/step - loss: 0.0031\n",
            "Epoch 165/200\n",
            "96/96 [==============================] - 0s 2ms/step - loss: 0.0031\n",
            "Epoch 166/200\n",
            "96/96 [==============================] - 0s 2ms/step - loss: 0.0032\n",
            "Epoch 167/200\n",
            "96/96 [==============================] - 0s 2ms/step - loss: 0.0032\n",
            "Epoch 168/200\n",
            "96/96 [==============================] - 0s 2ms/step - loss: 0.0032\n",
            "Epoch 169/200\n",
            "96/96 [==============================] - 0s 2ms/step - loss: 0.0032\n",
            "Epoch 170/200\n",
            "96/96 [==============================] - 0s 2ms/step - loss: 0.0031\n",
            "Epoch 171/200\n",
            "96/96 [==============================] - 0s 1ms/step - loss: 0.0033\n",
            "Epoch 172/200\n",
            "96/96 [==============================] - 0s 2ms/step - loss: 0.0032\n",
            "Epoch 173/200\n",
            "96/96 [==============================] - 0s 2ms/step - loss: 0.0032\n",
            "Epoch 174/200\n",
            "96/96 [==============================] - 0s 2ms/step - loss: 0.0032\n",
            "Epoch 175/200\n",
            "96/96 [==============================] - 0s 2ms/step - loss: 0.0031\n",
            "Epoch 176/200\n",
            "96/96 [==============================] - 0s 2ms/step - loss: 0.0031\n",
            "Epoch 177/200\n",
            "96/96 [==============================] - 0s 2ms/step - loss: 0.0031\n",
            "Epoch 178/200\n",
            "96/96 [==============================] - 0s 2ms/step - loss: 0.0032\n",
            "Epoch 179/200\n",
            "96/96 [==============================] - 0s 2ms/step - loss: 0.0031\n",
            "Epoch 180/200\n",
            "96/96 [==============================] - 0s 2ms/step - loss: 0.0033\n",
            "Epoch 181/200\n",
            "96/96 [==============================] - 0s 2ms/step - loss: 0.0033\n",
            "Epoch 182/200\n",
            "96/96 [==============================] - 0s 2ms/step - loss: 0.0031\n",
            "Epoch 183/200\n",
            "96/96 [==============================] - 0s 2ms/step - loss: 0.0030\n",
            "Epoch 184/200\n",
            "96/96 [==============================] - 0s 2ms/step - loss: 0.0031\n",
            "Epoch 185/200\n",
            "96/96 [==============================] - 0s 2ms/step - loss: 0.0033\n",
            "Epoch 186/200\n",
            "96/96 [==============================] - 0s 2ms/step - loss: 0.0033\n",
            "Epoch 187/200\n",
            "96/96 [==============================] - 0s 2ms/step - loss: 0.0032\n",
            "Epoch 188/200\n",
            "96/96 [==============================] - 0s 2ms/step - loss: 0.0032\n",
            "Epoch 189/200\n",
            "96/96 [==============================] - 0s 2ms/step - loss: 0.0031\n",
            "Epoch 190/200\n",
            "96/96 [==============================] - 0s 2ms/step - loss: 0.0031\n",
            "Epoch 191/200\n",
            "96/96 [==============================] - 0s 2ms/step - loss: 0.0031\n",
            "Epoch 192/200\n",
            "96/96 [==============================] - 0s 1ms/step - loss: 0.0031\n",
            "Epoch 193/200\n",
            "96/96 [==============================] - 0s 2ms/step - loss: 0.0033\n",
            "Epoch 194/200\n",
            "96/96 [==============================] - 0s 2ms/step - loss: 0.0032\n",
            "Epoch 195/200\n",
            "96/96 [==============================] - 0s 2ms/step - loss: 0.0031\n",
            "Epoch 196/200\n",
            "96/96 [==============================] - 0s 2ms/step - loss: 0.0031\n",
            "Epoch 197/200\n",
            "96/96 [==============================] - 0s 2ms/step - loss: 0.0032\n",
            "Epoch 198/200\n",
            "96/96 [==============================] - 0s 2ms/step - loss: 0.0032\n",
            "Epoch 199/200\n",
            "96/96 [==============================] - 0s 2ms/step - loss: 0.0032\n",
            "Epoch 200/200\n",
            "96/96 [==============================] - 0s 2ms/step - loss: 0.0032\n"
          ],
          "name": "stdout"
        },
        {
          "output_type": "execute_result",
          "data": {
            "text/plain": [
              "<tensorflow.python.keras.callbacks.History at 0x7f15b8a550b8>"
            ]
          },
          "metadata": {
            "tags": []
          },
          "execution_count": 58
        }
      ]
    },
    {
      "cell_type": "code",
      "metadata": {
        "id": "g3yY5Z-DjfTj"
      },
      "source": [
        "# make predictions\n",
        "trainPredict = model.predict(trainX)\n",
        "testPredict = model.predict(testX)"
      ],
      "execution_count": null,
      "outputs": []
    },
    {
      "cell_type": "code",
      "metadata": {
        "id": "zvT9XvzxjiQ1"
      },
      "source": [
        "# invert predictions and the log transformation\n",
        "trainPredict = np.exp(scaler.inverse_transform(trainPredict))\n",
        "trainY = np.exp(scaler.inverse_transform([trainY]))\n",
        "testPredict = np.exp(scaler.inverse_transform(testPredict))\n",
        "testY = np.exp(scaler.inverse_transform([testY]))"
      ],
      "execution_count": null,
      "outputs": []
    },
    {
      "cell_type": "code",
      "metadata": {
        "id": "cYKxac6Tjl8I",
        "outputId": "4d270b2d-5d87-4251-a69b-d7507447f2b4",
        "colab": {
          "base_uri": "https://localhost:8080/"
        }
      },
      "source": [
        "# calculate root mean squared error and coefficient of determination\n",
        "trainScore = math.sqrt(mean_squared_error(trainY[0], trainPredict[:,0]))\n",
        "r2trainScore=r2_score(trainY[0], trainPredict[:,0])\n",
        "print('Train Score: RMSE = %.2f, R2 = %2f' % (trainScore, r2trainScore))\n",
        "testScore = math.sqrt(mean_squared_error(testY[0], testPredict[:,0]))\n",
        "r2testScore=r2_score(testY[0], testPredict[:,0])\n",
        "print('Test Score: RMSE = %.2f, R2 = %.2f' % (testScore, r2testScore))"
      ],
      "execution_count": null,
      "outputs": [
        {
          "output_type": "stream",
          "text": [
            "Train Score: RMSE = 22.06, R2 = 0.906422\n",
            "Test Score: RMSE = 45.30, R2 = 0.67\n"
          ],
          "name": "stdout"
        }
      ]
    },
    {
      "cell_type": "code",
      "metadata": {
        "id": "_VDzUCoLjtck",
        "outputId": "7184ccf4-ed09-4c0b-fff7-c66282d34775",
        "colab": {
          "base_uri": "https://localhost:8080/",
          "height": 320
        }
      },
      "source": [
        "# shift train predictions for plotting\n",
        "trainPredictPlot = np.empty_like(dataset)\n",
        "trainPredictPlot[:, :] = np.nan\n",
        "trainPredictPlot[LAG:len(trainPredict)+LAG, :] = trainPredict\n",
        "# shift test predictions for plotting\n",
        "testPredictPlot = np.empty_like(dataset)\n",
        "testPredictPlot[:, :] = np.nan\n",
        "testPredictPlot[len(trainPredict)+(LAG*2)+1:len(dataset)-1, :] = testPredict\n",
        "# plot baseline and predictions\n",
        "plt.figure(figsize=(8,5))\n",
        "plt.plot(np.exp(scaler.inverse_transform(dataset)))\n",
        "plt.plot(trainPredictPlot)\n",
        "plt.plot(testPredictPlot)\n",
        "plt.show()"
      ],
      "execution_count": null,
      "outputs": [
        {
          "output_type": "display_data",
          "data": {
            "image/png": "[encoded data removed]",
            "text/plain": [
              "<Figure size 576x360 with 1 Axes>"
            ]
          },
          "metadata": {
            "tags": [],
            "needs_background": "light"
          }
        }
      ]
    },
    {
      "cell_type": "markdown",
      "metadata": {
        "id": "s7MKbbv0knsO"
      },
      "source": [
        "Thus we get a good result with a very simple network."
      ]
    }
  ]
}